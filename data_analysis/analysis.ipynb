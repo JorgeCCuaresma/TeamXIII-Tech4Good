{
 "cells": [
  {
   "attachments": {},
   "cell_type": "markdown",
   "metadata": {},
   "source": [
    "## Analysis."
   ]
  },
  {
   "cell_type": "code",
   "execution_count": 698,
   "metadata": {},
   "outputs": [],
   "source": [
    "import pandas as pd\n",
    "import seaborn as sns\n",
    "import warnings\n",
    "warnings.filterwarnings(\"ignore\")\n",
    "import numpy as np\n",
    "from sklearn import preprocessing\n",
    "from sklearn.preprocessing import StandardScaler"
   ]
  },
  {
   "attachments": {},
   "cell_type": "markdown",
   "metadata": {},
   "source": [
    "### Renda bruta."
   ]
  },
  {
   "cell_type": "code",
   "execution_count": 963,
   "metadata": {},
   "outputs": [
    {
     "data": {
      "text/html": [
       "<div>\n",
       "<style scoped>\n",
       "    .dataframe tbody tr th:only-of-type {\n",
       "        vertical-align: middle;\n",
       "    }\n",
       "\n",
       "    .dataframe tbody tr th {\n",
       "        vertical-align: top;\n",
       "    }\n",
       "\n",
       "    .dataframe thead th {\n",
       "        text-align: right;\n",
       "    }\n",
       "</style>\n",
       "<table border=\"1\" class=\"dataframe\">\n",
       "  <thead>\n",
       "    <tr style=\"text-align: right;\">\n",
       "      <th></th>\n",
       "      <th>Any</th>\n",
       "      <th>Codi_Districte</th>\n",
       "      <th>Nom_Districte</th>\n",
       "      <th>Codi_Barri</th>\n",
       "      <th>Nom_Barri</th>\n",
       "      <th>Seccio_Censal</th>\n",
       "      <th>Import_Renda_Bruta_€</th>\n",
       "    </tr>\n",
       "  </thead>\n",
       "  <tbody>\n",
       "    <tr>\n",
       "      <th>650</th>\n",
       "      <td>2020</td>\n",
       "      <td>7</td>\n",
       "      <td>Horta-Guinardó</td>\n",
       "      <td>37</td>\n",
       "      <td>el Carmel</td>\n",
       "      <td>65</td>\n",
       "      <td>28828</td>\n",
       "    </tr>\n",
       "  </tbody>\n",
       "</table>\n",
       "</div>"
      ],
      "text/plain": [
       "      Any  Codi_Districte   Nom_Districte  Codi_Barri  Nom_Barri  \\\n",
       "650  2020               7  Horta-Guinardó          37  el Carmel   \n",
       "\n",
       "     Seccio_Censal  Import_Renda_Bruta_€  \n",
       "650             65                 28828  "
      ]
     },
     "execution_count": 963,
     "metadata": {},
     "output_type": "execute_result"
    }
   ],
   "source": [
    "renta = pd.read_csv(\"csv/2020_atles_renda_bruta_llar.csv\")\n",
    "renta.sample()"
   ]
  },
  {
   "attachments": {},
   "cell_type": "markdown",
   "metadata": {},
   "source": [
    "Get the mean of the Renda_Bruta per Barri."
   ]
  },
  {
   "cell_type": "code",
   "execution_count": 964,
   "metadata": {},
   "outputs": [],
   "source": [
    "mean_renda = renta.groupby('Nom_Barri', as_index=False)['Import_Renda_Bruta_€'].mean()"
   ]
  },
  {
   "cell_type": "code",
   "execution_count": 965,
   "metadata": {},
   "outputs": [],
   "source": [
    "x = pd.merge(renta, mean_renda, on= \"Nom_Barri\", how=\"left\")"
   ]
  },
  {
   "cell_type": "code",
   "execution_count": 966,
   "metadata": {},
   "outputs": [],
   "source": [
    "mean_renda = x.drop(columns=[\"Any\", \"Seccio_Censal\", \"Import_Renda_Bruta_€_x\"])"
   ]
  },
  {
   "cell_type": "code",
   "execution_count": 968,
   "metadata": {},
   "outputs": [],
   "source": [
    "mean_renda = mean_renda.drop_duplicates()"
   ]
  },
  {
   "cell_type": "code",
   "execution_count": 969,
   "metadata": {},
   "outputs": [],
   "source": [
    "mean_renda.rename(columns={\"Import_Renda_Bruta_€_y\":\"Renda_bruta_€\"}, inplace=True)"
   ]
  },
  {
   "cell_type": "code",
   "execution_count": 970,
   "metadata": {},
   "outputs": [],
   "source": [
    "# export to json\n",
    "mean_renda.to_json(r\"csv/json_renda.json\", force_ascii=False, orient=\"records\")"
   ]
  },
  {
   "cell_type": "code",
   "execution_count": 971,
   "metadata": {},
   "outputs": [],
   "source": [
    "renda_scaler = mean_renda.copy()"
   ]
  },
  {
   "attachments": {},
   "cell_type": "markdown",
   "metadata": {},
   "source": [
    "#### Scale the value."
   ]
  },
  {
   "attachments": {},
   "cell_type": "markdown",
   "metadata": {},
   "source": [
    "scale the value of the mean to a 40% the maximum value and from there down, this is to get the scores from the 4 points to evaluate and in total give a 100%."
   ]
  },
  {
   "cell_type": "code",
   "execution_count": 972,
   "metadata": {},
   "outputs": [],
   "source": [
    "# scale the values from 0 to 1.\n",
    "from sklearn.preprocessing import MinMaxScaler\n",
    "scaler = MinMaxScaler(feature_range=(0, 1))\n",
    "renda_scaler[\"incomeScore\"] = scaler.fit_transform(renda_scaler[\"Renda_bruta_€\"].values.reshape(-1, 1))"
   ]
  },
  {
   "cell_type": "code",
   "execution_count": 973,
   "metadata": {},
   "outputs": [
    {
     "data": {
      "text/html": [
       "<div>\n",
       "<style scoped>\n",
       "    .dataframe tbody tr th:only-of-type {\n",
       "        vertical-align: middle;\n",
       "    }\n",
       "\n",
       "    .dataframe tbody tr th {\n",
       "        vertical-align: top;\n",
       "    }\n",
       "\n",
       "    .dataframe thead th {\n",
       "        text-align: right;\n",
       "    }\n",
       "</style>\n",
       "<table border=\"1\" class=\"dataframe\">\n",
       "  <thead>\n",
       "    <tr style=\"text-align: right;\">\n",
       "      <th></th>\n",
       "      <th>Codi_Districte</th>\n",
       "      <th>Nom_Districte</th>\n",
       "      <th>Codi_Barri</th>\n",
       "      <th>Nom_Barri</th>\n",
       "      <th>Renda_bruta_€</th>\n",
       "      <th>incomeScore</th>\n",
       "    </tr>\n",
       "  </thead>\n",
       "  <tbody>\n",
       "    <tr>\n",
       "      <th>227</th>\n",
       "      <td>3</td>\n",
       "      <td>Sants-Montjuïc</td>\n",
       "      <td>11</td>\n",
       "      <td>el Poble Sec</td>\n",
       "      <td>37292.125000</td>\n",
       "      <td>0.115412</td>\n",
       "    </tr>\n",
       "    <tr>\n",
       "      <th>252</th>\n",
       "      <td>3</td>\n",
       "      <td>Sants-Montjuïc</td>\n",
       "      <td>13</td>\n",
       "      <td>la Marina de Port</td>\n",
       "      <td>38876.529412</td>\n",
       "      <td>0.132522</td>\n",
       "    </tr>\n",
       "    <tr>\n",
       "      <th>431</th>\n",
       "      <td>5</td>\n",
       "      <td>Sarrià-Sant Gervasi</td>\n",
       "      <td>25</td>\n",
       "      <td>Sant Gervasi- la Bonanova</td>\n",
       "      <td>98043.888889</td>\n",
       "      <td>0.771481</td>\n",
       "    </tr>\n",
       "    <tr>\n",
       "      <th>768</th>\n",
       "      <td>8</td>\n",
       "      <td>Nou Barris</td>\n",
       "      <td>49</td>\n",
       "      <td>Canyelles</td>\n",
       "      <td>40956.800000</td>\n",
       "      <td>0.154987</td>\n",
       "    </tr>\n",
       "    <tr>\n",
       "      <th>728</th>\n",
       "      <td>8</td>\n",
       "      <td>Nou Barris</td>\n",
       "      <td>45</td>\n",
       "      <td>Porta</td>\n",
       "      <td>37472.277778</td>\n",
       "      <td>0.117358</td>\n",
       "    </tr>\n",
       "  </tbody>\n",
       "</table>\n",
       "</div>"
      ],
      "text/plain": [
       "     Codi_Districte        Nom_Districte  Codi_Barri  \\\n",
       "227               3       Sants-Montjuïc          11   \n",
       "252               3       Sants-Montjuïc          13   \n",
       "431               5  Sarrià-Sant Gervasi          25   \n",
       "768               8           Nou Barris          49   \n",
       "728               8           Nou Barris          45   \n",
       "\n",
       "                     Nom_Barri  Renda_bruta_€  incomeScore  \n",
       "227               el Poble Sec   37292.125000     0.115412  \n",
       "252          la Marina de Port   38876.529412     0.132522  \n",
       "431  Sant Gervasi- la Bonanova   98043.888889     0.771481  \n",
       "768                  Canyelles   40956.800000     0.154987  \n",
       "728                      Porta   37472.277778     0.117358  "
      ]
     },
     "execution_count": 973,
     "metadata": {},
     "output_type": "execute_result"
    }
   ],
   "source": [
    "renda_scaler.sample(5)"
   ]
  },
  {
   "cell_type": "code",
   "execution_count": 974,
   "metadata": {},
   "outputs": [],
   "source": [
    "renda_scaler[\"incomeScore\"] = renda_scaler[\"incomeScore\"]*40"
   ]
  },
  {
   "cell_type": "code",
   "execution_count": 975,
   "metadata": {},
   "outputs": [],
   "source": [
    "renda_scaler = renda_scaler.drop_duplicates()"
   ]
  },
  {
   "cell_type": "code",
   "execution_count": 976,
   "metadata": {},
   "outputs": [],
   "source": [
    "renda_scaler.rename(columns={\"Renda_bruta_€\":\"incomeAvg\"}, inplace=True)"
   ]
  },
  {
   "cell_type": "code",
   "execution_count": 978,
   "metadata": {},
   "outputs": [
    {
     "data": {
      "text/html": [
       "<div>\n",
       "<style scoped>\n",
       "    .dataframe tbody tr th:only-of-type {\n",
       "        vertical-align: middle;\n",
       "    }\n",
       "\n",
       "    .dataframe tbody tr th {\n",
       "        vertical-align: top;\n",
       "    }\n",
       "\n",
       "    .dataframe thead th {\n",
       "        text-align: right;\n",
       "    }\n",
       "</style>\n",
       "<table border=\"1\" class=\"dataframe\">\n",
       "  <thead>\n",
       "    <tr style=\"text-align: right;\">\n",
       "      <th></th>\n",
       "      <th>Codi_Districte</th>\n",
       "      <th>Nom_Districte</th>\n",
       "      <th>Codi_Barri</th>\n",
       "      <th>Nom_Barri</th>\n",
       "      <th>incomeAvg</th>\n",
       "      <th>incomeScore</th>\n",
       "    </tr>\n",
       "  </thead>\n",
       "  <tbody>\n",
       "    <tr>\n",
       "      <th>163</th>\n",
       "      <td>2</td>\n",
       "      <td>L'Eixample</td>\n",
       "      <td>9</td>\n",
       "      <td>la Nova Esquerra de l'Eixample</td>\n",
       "      <td>57096.675</td>\n",
       "      <td>13.171389</td>\n",
       "    </tr>\n",
       "  </tbody>\n",
       "</table>\n",
       "</div>"
      ],
      "text/plain": [
       "     Codi_Districte Nom_Districte  Codi_Barri                       Nom_Barri  \\\n",
       "163               2    L'Eixample           9  la Nova Esquerra de l'Eixample   \n",
       "\n",
       "     incomeAvg  incomeScore  \n",
       "163  57096.675    13.171389  "
      ]
     },
     "execution_count": 978,
     "metadata": {},
     "output_type": "execute_result"
    }
   ],
   "source": [
    "renda_scaler.sample()"
   ]
  },
  {
   "attachments": {},
   "cell_type": "markdown",
   "metadata": {},
   "source": [
    "### Encuensta Digital."
   ]
  },
  {
   "attachments": {},
   "cell_type": "markdown",
   "metadata": {},
   "source": [
    "data from the bacelona open data, where la encuesta is from 2020 and is about accesibility of internet conexions and machines to get connected per house."
   ]
  },
  {
   "cell_type": "code",
   "execution_count": 979,
   "metadata": {},
   "outputs": [],
   "source": [
    "encuesta_digital = pd.read_csv(\"csv/2020_050067_bbdd_escletxadigital2020-v4.csv\")\n",
    "pd.set_option(\"display.max_columns\", None)"
   ]
  },
  {
   "cell_type": "code",
   "execution_count": 980,
   "metadata": {},
   "outputs": [
    {
     "data": {
      "text/html": [
       "<div>\n",
       "<style scoped>\n",
       "    .dataframe tbody tr th:only-of-type {\n",
       "        vertical-align: middle;\n",
       "    }\n",
       "\n",
       "    .dataframe tbody tr th {\n",
       "        vertical-align: top;\n",
       "    }\n",
       "\n",
       "    .dataframe thead th {\n",
       "        text-align: right;\n",
       "    }\n",
       "</style>\n",
       "<table border=\"1\" class=\"dataframe\">\n",
       "  <thead>\n",
       "    <tr style=\"text-align: right;\">\n",
       "      <th></th>\n",
       "      <th>ID</th>\n",
       "      <th>METODE</th>\n",
       "      <th>DATA</th>\n",
       "      <th>Codi_Districte</th>\n",
       "      <th>Nom_Districte</th>\n",
       "      <th>F0</th>\n",
       "      <th>F1</th>\n",
       "      <th>F2</th>\n",
       "      <th>RENDA</th>\n",
       "      <th>Q1</th>\n",
       "      <th>Q2</th>\n",
       "      <th>EDAT</th>\n",
       "      <th>ID4</th>\n",
       "      <th>ID4_PAIS</th>\n",
       "      <th>ID5</th>\n",
       "      <th>P9</th>\n",
       "      <th>ID7</th>\n",
       "      <th>ID8</th>\n",
       "      <th>ID9</th>\n",
       "      <th>P1</th>\n",
       "      <th>P1A</th>\n",
       "      <th>Q1A</th>\n",
       "      <th>P1B</th>\n",
       "      <th>P2_1</th>\n",
       "      <th>P2_2</th>\n",
       "      <th>P2_3</th>\n",
       "      <th>P2_4</th>\n",
       "      <th>P2_6</th>\n",
       "      <th>P2_7</th>\n",
       "      <th>P2_5</th>\n",
       "      <th>P2_5B</th>\n",
       "      <th>P2</th>\n",
       "      <th>P2A</th>\n",
       "      <th>P2B</th>\n",
       "      <th>P3_1</th>\n",
       "      <th>P3_2</th>\n",
       "      <th>P3_3</th>\n",
       "      <th>P3_0</th>\n",
       "      <th>P3_95</th>\n",
       "      <th>P3_98</th>\n",
       "      <th>P3_99</th>\n",
       "      <th>P4</th>\n",
       "      <th>P5A_1</th>\n",
       "      <th>P5A_2</th>\n",
       "      <th>P5A_3</th>\n",
       "      <th>P5A_4</th>\n",
       "      <th>P5A_5</th>\n",
       "      <th>P5A_6</th>\n",
       "      <th>P5A_7</th>\n",
       "      <th>P5A_8</th>\n",
       "      <th>P5A_9</th>\n",
       "      <th>P5A_10</th>\n",
       "      <th>P5A_11</th>\n",
       "      <th>P5A_12</th>\n",
       "      <th>P5A_13</th>\n",
       "      <th>P5A_14</th>\n",
       "      <th>P5A_15</th>\n",
       "      <th>P5A_16</th>\n",
       "      <th>P5A_17</th>\n",
       "      <th>P5A_18</th>\n",
       "      <th>P5A_19</th>\n",
       "      <th>P5A_20</th>\n",
       "      <th>P5A_18_cod</th>\n",
       "      <th>P6</th>\n",
       "      <th>P7</th>\n",
       "      <th>Q8</th>\n",
       "      <th>P8B</th>\n",
       "      <th>P9B</th>\n",
       "      <th>P10</th>\n",
       "      <th>P10B_1</th>\n",
       "      <th>P10B_2</th>\n",
       "      <th>P10B_3</th>\n",
       "      <th>P10B_4</th>\n",
       "      <th>P10B_5</th>\n",
       "      <th>P10B_6</th>\n",
       "      <th>P10B_95</th>\n",
       "      <th>P10B_98</th>\n",
       "      <th>P10B_99</th>\n",
       "      <th>P11_0</th>\n",
       "      <th>P11_1</th>\n",
       "      <th>P11_2</th>\n",
       "      <th>P11_3</th>\n",
       "      <th>P11_4</th>\n",
       "      <th>P11_5</th>\n",
       "      <th>P11_98</th>\n",
       "      <th>P11_99</th>\n",
       "      <th>P11B</th>\n",
       "      <th>P11C_1</th>\n",
       "      <th>P11C_2</th>\n",
       "      <th>P11C_3</th>\n",
       "      <th>P11C_4</th>\n",
       "      <th>P11C_5</th>\n",
       "      <th>P11C_6</th>\n",
       "      <th>P11C_95</th>\n",
       "      <th>P11C_98</th>\n",
       "      <th>P11C_99</th>\n",
       "      <th>P12</th>\n",
       "      <th>Q12</th>\n",
       "      <th>P13</th>\n",
       "      <th>P13B_1</th>\n",
       "      <th>P13B_2</th>\n",
       "      <th>P13B_3</th>\n",
       "      <th>P13B_4</th>\n",
       "      <th>P13B_5</th>\n",
       "      <th>P13B_98</th>\n",
       "      <th>P13B_99</th>\n",
       "      <th>ID10</th>\n",
       "      <th>ID11</th>\n",
       "      <th>P14</th>\n",
       "      <th>P14_1cod</th>\n",
       "      <th>P14_2cod</th>\n",
       "      <th>P5A_1rec</th>\n",
       "      <th>P5A_2rec</th>\n",
       "      <th>P5A_3rec</th>\n",
       "      <th>P5A_4rec</th>\n",
       "      <th>P5A_5rec</th>\n",
       "      <th>P5A_6rec</th>\n",
       "      <th>P5A_7rec</th>\n",
       "      <th>P5A_8rec</th>\n",
       "      <th>P5A_9rec</th>\n",
       "      <th>P5A_10rec</th>\n",
       "      <th>P5A_11rec</th>\n",
       "      <th>P5A_12rec</th>\n",
       "      <th>P5A_13rec</th>\n",
       "      <th>P5A_14rec</th>\n",
       "      <th>P5A_15rec</th>\n",
       "      <th>P5A_16rec</th>\n",
       "      <th>P5A_17rec</th>\n",
       "      <th>P5A_18rec</th>\n",
       "      <th>P5A_19rec</th>\n",
       "      <th>P5A_20rec</th>\n",
       "      <th>P2_LLAR</th>\n",
       "      <th>Longitud</th>\n",
       "      <th>Latitud</th>\n",
       "      <th>Pes</th>\n",
       "    </tr>\n",
       "  </thead>\n",
       "  <tbody>\n",
       "    <tr>\n",
       "      <th>380</th>\n",
       "      <td>864</td>\n",
       "      <td>1</td>\n",
       "      <td>20201020</td>\n",
       "      <td>2</td>\n",
       "      <td>Eixample</td>\n",
       "      <td>2</td>\n",
       "      <td>1</td>\n",
       "      <td>1</td>\n",
       "      <td>3</td>\n",
       "      <td>2</td>\n",
       "      <td>74</td>\n",
       "      <td>6</td>\n",
       "      <td>3</td>\n",
       "      <td>276.0</td>\n",
       "      <td>3</td>\n",
       "      <td>NaN</td>\n",
       "      <td>1</td>\n",
       "      <td>1</td>\n",
       "      <td>0</td>\n",
       "      <td>2</td>\n",
       "      <td>NaN</td>\n",
       "      <td>NaN</td>\n",
       "      <td>7.0</td>\n",
       "      <td>0</td>\n",
       "      <td>0</td>\n",
       "      <td>0</td>\n",
       "      <td>0</td>\n",
       "      <td>0</td>\n",
       "      <td>0</td>\n",
       "      <td>0</td>\n",
       "      <td>NaN</td>\n",
       "      <td>2</td>\n",
       "      <td>NaN</td>\n",
       "      <td>NaN</td>\n",
       "      <td>NaN</td>\n",
       "      <td>NaN</td>\n",
       "      <td>NaN</td>\n",
       "      <td>0.0</td>\n",
       "      <td>NaN</td>\n",
       "      <td>NaN</td>\n",
       "      <td>NaN</td>\n",
       "      <td>7</td>\n",
       "      <td>NaN</td>\n",
       "      <td>NaN</td>\n",
       "      <td>NaN</td>\n",
       "      <td>NaN</td>\n",
       "      <td>NaN</td>\n",
       "      <td>NaN</td>\n",
       "      <td>NaN</td>\n",
       "      <td>NaN</td>\n",
       "      <td>NaN</td>\n",
       "      <td>NaN</td>\n",
       "      <td>NaN</td>\n",
       "      <td>NaN</td>\n",
       "      <td>NaN</td>\n",
       "      <td>NaN</td>\n",
       "      <td>NaN</td>\n",
       "      <td>NaN</td>\n",
       "      <td>NaN</td>\n",
       "      <td>NaN</td>\n",
       "      <td>NaN</td>\n",
       "      <td>NaN</td>\n",
       "      <td>NaN</td>\n",
       "      <td>NaN</td>\n",
       "      <td>0</td>\n",
       "      <td>NaN</td>\n",
       "      <td>2.0</td>\n",
       "      <td>NaN</td>\n",
       "      <td>NaN</td>\n",
       "      <td>NaN</td>\n",
       "      <td>NaN</td>\n",
       "      <td>NaN</td>\n",
       "      <td>NaN</td>\n",
       "      <td>NaN</td>\n",
       "      <td>NaN</td>\n",
       "      <td>NaN</td>\n",
       "      <td>NaN</td>\n",
       "      <td>NaN</td>\n",
       "      <td>0.0</td>\n",
       "      <td>NaN</td>\n",
       "      <td>NaN</td>\n",
       "      <td>NaN</td>\n",
       "      <td>NaN</td>\n",
       "      <td>NaN</td>\n",
       "      <td>NaN</td>\n",
       "      <td>NaN</td>\n",
       "      <td>NaN</td>\n",
       "      <td>NaN</td>\n",
       "      <td>NaN</td>\n",
       "      <td>NaN</td>\n",
       "      <td>NaN</td>\n",
       "      <td>NaN</td>\n",
       "      <td>NaN</td>\n",
       "      <td>NaN</td>\n",
       "      <td>NaN</td>\n",
       "      <td>NaN</td>\n",
       "      <td>1</td>\n",
       "      <td>NaN</td>\n",
       "      <td>3</td>\n",
       "      <td>NaN</td>\n",
       "      <td>NaN</td>\n",
       "      <td>NaN</td>\n",
       "      <td>NaN</td>\n",
       "      <td>NaN</td>\n",
       "      <td>NaN</td>\n",
       "      <td>NaN</td>\n",
       "      <td>3</td>\n",
       "      <td>2</td>\n",
       "      <td>NaN</td>\n",
       "      <td>NaN</td>\n",
       "      <td>NaN</td>\n",
       "      <td>NaN</td>\n",
       "      <td>NaN</td>\n",
       "      <td>NaN</td>\n",
       "      <td>NaN</td>\n",
       "      <td>NaN</td>\n",
       "      <td>NaN</td>\n",
       "      <td>NaN</td>\n",
       "      <td>NaN</td>\n",
       "      <td>NaN</td>\n",
       "      <td>NaN</td>\n",
       "      <td>NaN</td>\n",
       "      <td>NaN</td>\n",
       "      <td>NaN</td>\n",
       "      <td>NaN</td>\n",
       "      <td>NaN</td>\n",
       "      <td>NaN</td>\n",
       "      <td>NaN</td>\n",
       "      <td>NaN</td>\n",
       "      <td>NaN</td>\n",
       "      <td>NaN</td>\n",
       "      <td>0.0</td>\n",
       "      <td>2.149765</td>\n",
       "      <td>41.384366</td>\n",
       "      <td>0.91384</td>\n",
       "    </tr>\n",
       "  </tbody>\n",
       "</table>\n",
       "</div>"
      ],
      "text/plain": [
       "      ID  METODE      DATA  Codi_Districte Nom_Districte  F0  F1  F2  RENDA  \\\n",
       "380  864       1  20201020               2      Eixample   2   1   1      3   \n",
       "\n",
       "     Q1  Q2  EDAT  ID4  ID4_PAIS  ID5  P9  ID7  ID8  ID9  P1  P1A  Q1A  P1B  \\\n",
       "380   2  74     6    3     276.0    3 NaN    1    1    0   2  NaN  NaN  7.0   \n",
       "\n",
       "     P2_1  P2_2  P2_3  P2_4  P2_6  P2_7  P2_5  P2_5B  P2  P2A  P2B  P3_1  \\\n",
       "380     0     0     0     0     0     0     0    NaN   2  NaN  NaN   NaN   \n",
       "\n",
       "     P3_2  P3_3  P3_0  P3_95  P3_98  P3_99  P4  P5A_1  P5A_2  P5A_3  P5A_4  \\\n",
       "380   NaN   NaN   0.0    NaN    NaN    NaN   7    NaN    NaN    NaN    NaN   \n",
       "\n",
       "     P5A_5  P5A_6  P5A_7  P5A_8  P5A_9  P5A_10  P5A_11  P5A_12  P5A_13  \\\n",
       "380    NaN    NaN    NaN    NaN    NaN     NaN     NaN     NaN     NaN   \n",
       "\n",
       "     P5A_14  P5A_15  P5A_16  P5A_17  P5A_18  P5A_19  P5A_20  P5A_18_cod  P6  \\\n",
       "380     NaN     NaN     NaN     NaN     NaN     NaN     NaN         NaN NaN   \n",
       "\n",
       "     P7  Q8  P8B  P9B  P10  P10B_1  P10B_2  P10B_3  P10B_4  P10B_5  P10B_6  \\\n",
       "380   0 NaN  2.0  NaN  NaN     NaN     NaN     NaN     NaN     NaN     NaN   \n",
       "\n",
       "     P10B_95  P10B_98  P10B_99  P11_0  P11_1  P11_2  P11_3  P11_4  P11_5  \\\n",
       "380      NaN      NaN      NaN    0.0    NaN    NaN    NaN    NaN    NaN   \n",
       "\n",
       "     P11_98  P11_99  P11B  P11C_1  P11C_2  P11C_3  P11C_4  P11C_5  P11C_6  \\\n",
       "380     NaN     NaN   NaN     NaN     NaN     NaN     NaN     NaN     NaN   \n",
       "\n",
       "     P11C_95  P11C_98  P11C_99  P12  Q12  P13  P13B_1  P13B_2  P13B_3  P13B_4  \\\n",
       "380      NaN      NaN      NaN    1  NaN    3     NaN     NaN     NaN     NaN   \n",
       "\n",
       "     P13B_5  P13B_98  P13B_99  ID10  ID11  P14  P14_1cod  P14_2cod  P5A_1rec  \\\n",
       "380     NaN      NaN      NaN     3     2  NaN       NaN       NaN       NaN   \n",
       "\n",
       "     P5A_2rec  P5A_3rec  P5A_4rec  P5A_5rec  P5A_6rec  P5A_7rec  P5A_8rec  \\\n",
       "380       NaN       NaN       NaN       NaN       NaN       NaN       NaN   \n",
       "\n",
       "     P5A_9rec  P5A_10rec  P5A_11rec  P5A_12rec  P5A_13rec  P5A_14rec  \\\n",
       "380       NaN        NaN        NaN        NaN        NaN        NaN   \n",
       "\n",
       "     P5A_15rec  P5A_16rec  P5A_17rec  P5A_18rec  P5A_19rec  P5A_20rec  \\\n",
       "380        NaN        NaN        NaN        NaN        NaN        NaN   \n",
       "\n",
       "     P2_LLAR  Longitud    Latitud      Pes  \n",
       "380      0.0  2.149765  41.384366  0.91384  "
      ]
     },
     "execution_count": 980,
     "metadata": {},
     "output_type": "execute_result"
    }
   ],
   "source": [
    "encuesta_digital.sample()"
   ]
  },
  {
   "cell_type": "code",
   "execution_count": 981,
   "metadata": {},
   "outputs": [],
   "source": [
    "# Filter the data for actual values needed.\n",
    "encuesta_digital = encuesta_digital[[\"Codi_Districte\", \"Nom_Districte\", \"Q1\", \"EDAT\", \"P1\", \"P1A\", \"Q1A\", \"P2_1\", \"P2_2\", \"P2_3\", \"P2_4\"]]"
   ]
  },
  {
   "cell_type": "code",
   "execution_count": 982,
   "metadata": {},
   "outputs": [],
   "source": [
    "encuesta_graph = encuesta_digital.copy()"
   ]
  },
  {
   "cell_type": "code",
   "execution_count": 983,
   "metadata": {},
   "outputs": [],
   "source": [
    "encuesta_digital.rename(columns={\"Q1\":\"sexo\", \"EDAT\":\"edad\", \"P1\":\"conexion a internet\",\"P1A\":\"tipo de conexion\", \"Q1A\":\"calidad de internet\", \"P2_1\":\"smartphone\",\"P2_3\":\"portatil\", \"P2_2\":\"tablet\", \"P2_4\":\"ordenador\"}, inplace=True)"
   ]
  },
  {
   "cell_type": "code",
   "execution_count": 984,
   "metadata": {},
   "outputs": [
    {
     "data": {
      "text/html": [
       "<div>\n",
       "<style scoped>\n",
       "    .dataframe tbody tr th:only-of-type {\n",
       "        vertical-align: middle;\n",
       "    }\n",
       "\n",
       "    .dataframe tbody tr th {\n",
       "        vertical-align: top;\n",
       "    }\n",
       "\n",
       "    .dataframe thead th {\n",
       "        text-align: right;\n",
       "    }\n",
       "</style>\n",
       "<table border=\"1\" class=\"dataframe\">\n",
       "  <thead>\n",
       "    <tr style=\"text-align: right;\">\n",
       "      <th></th>\n",
       "      <th>Codi_Districte</th>\n",
       "      <th>Nom_Districte</th>\n",
       "      <th>sexo</th>\n",
       "      <th>edad</th>\n",
       "      <th>conexion a internet</th>\n",
       "      <th>tipo de conexion</th>\n",
       "      <th>calidad de internet</th>\n",
       "      <th>smartphone</th>\n",
       "      <th>tablet</th>\n",
       "      <th>portatil</th>\n",
       "      <th>ordenador</th>\n",
       "    </tr>\n",
       "  </thead>\n",
       "  <tbody>\n",
       "    <tr>\n",
       "      <th>406</th>\n",
       "      <td>10</td>\n",
       "      <td>Sant Martí</td>\n",
       "      <td>1</td>\n",
       "      <td>4</td>\n",
       "      <td>1</td>\n",
       "      <td>2.0</td>\n",
       "      <td>5.0</td>\n",
       "      <td>3</td>\n",
       "      <td>1</td>\n",
       "      <td>1</td>\n",
       "      <td>1</td>\n",
       "    </tr>\n",
       "  </tbody>\n",
       "</table>\n",
       "</div>"
      ],
      "text/plain": [
       "     Codi_Districte Nom_Districte  sexo  edad  conexion a internet  \\\n",
       "406              10    Sant Martí     1     4                    1   \n",
       "\n",
       "     tipo de conexion  calidad de internet  smartphone  tablet  portatil  \\\n",
       "406               2.0                  5.0           3       1         1   \n",
       "\n",
       "     ordenador  \n",
       "406          1  "
      ]
     },
     "execution_count": 984,
     "metadata": {},
     "output_type": "execute_result"
    }
   ],
   "source": [
    "encuesta_digital.sample()"
   ]
  },
  {
   "cell_type": "code",
   "execution_count": 986,
   "metadata": {},
   "outputs": [],
   "source": [
    "# dicctionaties to change values.\n",
    "conexion = {1:10, 2:0, 98:0}\n",
    "calidad = {98:7, 99:7}\n",
    "# dictionary to change the values 98, 99 with the mean.\n",
    "smart = {98:3, 99:3}\n",
    "tablet = {98:1.5, 99:1.5}\n",
    "portatil = {98:2, 99:2}\n",
    "ordenador = {98:1, 99:1}\n"
   ]
  },
  {
   "cell_type": "code",
   "execution_count": 987,
   "metadata": {},
   "outputs": [],
   "source": [
    "# Change values.\n",
    "encuesta_digital[\"valor conexion\"] = encuesta_digital[\"conexion a internet\"].replace(conexion)\n",
    "encuesta_digital[\"valor calidad\"] = encuesta_digital[\"calidad de internet\"].replace(calidad)\n",
    "encuesta_digital[\"valor smart\"] = encuesta_digital[\"smartphone\"].replace(smart)\n",
    "encuesta_digital[\"valor tablet\"] = encuesta_digital[\"tablet\"].replace(tablet)\n",
    "encuesta_digital[\"valor portatil\"] = encuesta_digital[\"portatil\"].replace(portatil)\n",
    "encuesta_digital[\"valor ordenador\"] = encuesta_digital[\"ordenador\"].replace(ordenador)"
   ]
  },
  {
   "cell_type": "code",
   "execution_count": 988,
   "metadata": {},
   "outputs": [
    {
     "data": {
      "text/plain": [
       "valor tablet\n",
       "1.0    1043\n",
       "0.0     992\n",
       "2.0     364\n",
       "3.0      91\n",
       "4.0      31\n",
       "1.5      16\n",
       "5.0       4\n",
       "7.0       1\n",
       "Name: count, dtype: int64"
      ]
     },
     "execution_count": 988,
     "metadata": {},
     "output_type": "execute_result"
    }
   ],
   "source": [
    "encuesta_digital[\"valor tablet\"].value_counts()"
   ]
  },
  {
   "cell_type": "code",
   "execution_count": 989,
   "metadata": {},
   "outputs": [],
   "source": [
    "# multiply the values to get a smaller number, because it does not have that importance on the value.\n",
    "encuesta_digital[\"valor smart\"] = encuesta_digital[\"valor smart\"]*.5\n",
    "encuesta_digital[\"valor tablet\"] = encuesta_digital[\"valor tablet\"]*.5\n",
    "encuesta_digital[\"valor portatil\"] = encuesta_digital[\"valor portatil\"]*.5\n",
    "encuesta_digital[\"valor ordenador\"] = encuesta_digital[\"valor ordenador\"]*.5"
   ]
  },
  {
   "cell_type": "code",
   "execution_count": 990,
   "metadata": {},
   "outputs": [
    {
     "data": {
      "text/html": [
       "<div>\n",
       "<style scoped>\n",
       "    .dataframe tbody tr th:only-of-type {\n",
       "        vertical-align: middle;\n",
       "    }\n",
       "\n",
       "    .dataframe tbody tr th {\n",
       "        vertical-align: top;\n",
       "    }\n",
       "\n",
       "    .dataframe thead th {\n",
       "        text-align: right;\n",
       "    }\n",
       "</style>\n",
       "<table border=\"1\" class=\"dataframe\">\n",
       "  <thead>\n",
       "    <tr style=\"text-align: right;\">\n",
       "      <th></th>\n",
       "      <th>Codi_Districte</th>\n",
       "      <th>Nom_Districte</th>\n",
       "      <th>sexo</th>\n",
       "      <th>edad</th>\n",
       "      <th>conexion a internet</th>\n",
       "      <th>tipo de conexion</th>\n",
       "      <th>calidad de internet</th>\n",
       "      <th>smartphone</th>\n",
       "      <th>tablet</th>\n",
       "      <th>portatil</th>\n",
       "      <th>ordenador</th>\n",
       "      <th>valor conexion</th>\n",
       "      <th>valor calidad</th>\n",
       "      <th>valor smart</th>\n",
       "      <th>valor tablet</th>\n",
       "      <th>valor portatil</th>\n",
       "      <th>valor ordenador</th>\n",
       "    </tr>\n",
       "  </thead>\n",
       "  <tbody>\n",
       "    <tr>\n",
       "      <th>2060</th>\n",
       "      <td>4</td>\n",
       "      <td>Les Corts</td>\n",
       "      <td>2</td>\n",
       "      <td>2</td>\n",
       "      <td>1</td>\n",
       "      <td>2.0</td>\n",
       "      <td>8.0</td>\n",
       "      <td>2</td>\n",
       "      <td>0</td>\n",
       "      <td>0</td>\n",
       "      <td>1</td>\n",
       "      <td>10</td>\n",
       "      <td>8.0</td>\n",
       "      <td>1.0</td>\n",
       "      <td>0.0</td>\n",
       "      <td>0.0</td>\n",
       "      <td>0.5</td>\n",
       "    </tr>\n",
       "  </tbody>\n",
       "</table>\n",
       "</div>"
      ],
      "text/plain": [
       "      Codi_Districte Nom_Districte  sexo  edad  conexion a internet  \\\n",
       "2060               4     Les Corts     2     2                    1   \n",
       "\n",
       "      tipo de conexion  calidad de internet  smartphone  tablet  portatil  \\\n",
       "2060               2.0                  8.0           2       0         0   \n",
       "\n",
       "      ordenador  valor conexion  valor calidad  valor smart  valor tablet  \\\n",
       "2060          1              10            8.0          1.0           0.0   \n",
       "\n",
       "      valor portatil  valor ordenador  \n",
       "2060             0.0              0.5  "
      ]
     },
     "execution_count": 990,
     "metadata": {},
     "output_type": "execute_result"
    }
   ],
   "source": [
    "encuesta_digital.sample()"
   ]
  },
  {
   "cell_type": "code",
   "execution_count": 991,
   "metadata": {},
   "outputs": [],
   "source": [
    "# sum all the values to get the main.\n",
    "encuesta_digital[\"valor\"] = encuesta_digital[\"valor calidad\"] + encuesta_digital[\"valor conexion\"]+ encuesta_digital[\"valor smart\"] + encuesta_digital[\"valor tablet\"] + encuesta_digital[\"valor portatil\"] + encuesta_digital[\"valor ordenador\"]"
   ]
  },
  {
   "cell_type": "code",
   "execution_count": 992,
   "metadata": {},
   "outputs": [],
   "source": [
    "# filter the data for needed information.\n",
    "encuesta_valor = encuesta_digital[[\"Codi_Districte\", \"Nom_Districte\", \"valor\"]]"
   ]
  },
  {
   "cell_type": "code",
   "execution_count": 993,
   "metadata": {},
   "outputs": [],
   "source": [
    "encuesta_valor = encuesta_valor.groupby(['Codi_Districte', 'Nom_Districte'])['valor'].mean().reset_index()"
   ]
  },
  {
   "cell_type": "code",
   "execution_count": 994,
   "metadata": {},
   "outputs": [
    {
     "data": {
      "text/html": [
       "<div>\n",
       "<style scoped>\n",
       "    .dataframe tbody tr th:only-of-type {\n",
       "        vertical-align: middle;\n",
       "    }\n",
       "\n",
       "    .dataframe tbody tr th {\n",
       "        vertical-align: top;\n",
       "    }\n",
       "\n",
       "    .dataframe thead th {\n",
       "        text-align: right;\n",
       "    }\n",
       "</style>\n",
       "<table border=\"1\" class=\"dataframe\">\n",
       "  <thead>\n",
       "    <tr style=\"text-align: right;\">\n",
       "      <th></th>\n",
       "      <th>Codi_Districte</th>\n",
       "      <th>Nom_Districte</th>\n",
       "      <th>valor</th>\n",
       "    </tr>\n",
       "  </thead>\n",
       "  <tbody>\n",
       "    <tr>\n",
       "      <th>0</th>\n",
       "      <td>1</td>\n",
       "      <td>Ciutat Vella</td>\n",
       "      <td>20.210000</td>\n",
       "    </tr>\n",
       "    <tr>\n",
       "      <th>1</th>\n",
       "      <td>2</td>\n",
       "      <td>Eixample</td>\n",
       "      <td>20.527228</td>\n",
       "    </tr>\n",
       "    <tr>\n",
       "      <th>2</th>\n",
       "      <td>3</td>\n",
       "      <td>Sants - Montjuïc</td>\n",
       "      <td>20.553309</td>\n",
       "    </tr>\n",
       "    <tr>\n",
       "      <th>3</th>\n",
       "      <td>4</td>\n",
       "      <td>Les Corts</td>\n",
       "      <td>20.725543</td>\n",
       "    </tr>\n",
       "    <tr>\n",
       "      <th>4</th>\n",
       "      <td>5</td>\n",
       "      <td>Sarrià - Sant Gervasi</td>\n",
       "      <td>20.831776</td>\n",
       "    </tr>\n",
       "    <tr>\n",
       "      <th>5</th>\n",
       "      <td>6</td>\n",
       "      <td>Gràcia</td>\n",
       "      <td>20.352941</td>\n",
       "    </tr>\n",
       "    <tr>\n",
       "      <th>6</th>\n",
       "      <td>7</td>\n",
       "      <td>Horta - Guinardó</td>\n",
       "      <td>20.281690</td>\n",
       "    </tr>\n",
       "    <tr>\n",
       "      <th>7</th>\n",
       "      <td>8</td>\n",
       "      <td>Nou Barris</td>\n",
       "      <td>20.340590</td>\n",
       "    </tr>\n",
       "    <tr>\n",
       "      <th>8</th>\n",
       "      <td>9</td>\n",
       "      <td>Sant Andreu</td>\n",
       "      <td>20.326687</td>\n",
       "    </tr>\n",
       "    <tr>\n",
       "      <th>9</th>\n",
       "      <td>10</td>\n",
       "      <td>Sant Martí</td>\n",
       "      <td>20.649074</td>\n",
       "    </tr>\n",
       "  </tbody>\n",
       "</table>\n",
       "</div>"
      ],
      "text/plain": [
       "   Codi_Districte          Nom_Districte      valor\n",
       "0               1           Ciutat Vella  20.210000\n",
       "1               2               Eixample  20.527228\n",
       "2               3       Sants - Montjuïc  20.553309\n",
       "3               4              Les Corts  20.725543\n",
       "4               5  Sarrià - Sant Gervasi  20.831776\n",
       "5               6                 Gràcia  20.352941\n",
       "6               7       Horta - Guinardó  20.281690\n",
       "7               8             Nou Barris  20.340590\n",
       "8               9            Sant Andreu  20.326687\n",
       "9              10             Sant Martí  20.649074"
      ]
     },
     "execution_count": 994,
     "metadata": {},
     "output_type": "execute_result"
    }
   ],
   "source": [
    "encuesta_valor"
   ]
  },
  {
   "attachments": {},
   "cell_type": "markdown",
   "metadata": {},
   "source": [
    "#### Scale the value"
   ]
  },
  {
   "attachments": {},
   "cell_type": "markdown",
   "metadata": {},
   "source": [
    "This was going to get into the values, but at the end its a biased information, its an encuesta so we dont know how many people where asked for in what neighborhood, we can see that it acctually there where not people asked about it on ciutat vella. So at the end this code didnt work much"
   ]
  },
  {
   "cell_type": "code",
   "execution_count": 995,
   "metadata": {},
   "outputs": [],
   "source": [
    "from sklearn.preprocessing import MinMaxScaler\n",
    "scaler = MinMaxScaler(feature_range=(0, 1))\n",
    "encuesta_valor[\"valor\"] = scaler.fit_transform(encuesta_valor[\"valor\"].values.reshape(-1, 1))\n",
    "encuesta_valor[\"digitalValue\"] = encuesta_valor[\"valor\"]*20\n",
    "encuesta_valor.drop(columns=[\"valor\"], inplace=True)"
   ]
  },
  {
   "attachments": {},
   "cell_type": "markdown",
   "metadata": {},
   "source": [
    "#### Exploring."
   ]
  },
  {
   "cell_type": "code",
   "execution_count": 999,
   "metadata": {},
   "outputs": [
    {
     "data": {
      "text/html": [
       "<div>\n",
       "<style scoped>\n",
       "    .dataframe tbody tr th:only-of-type {\n",
       "        vertical-align: middle;\n",
       "    }\n",
       "\n",
       "    .dataframe tbody tr th {\n",
       "        vertical-align: top;\n",
       "    }\n",
       "\n",
       "    .dataframe thead th {\n",
       "        text-align: right;\n",
       "    }\n",
       "</style>\n",
       "<table border=\"1\" class=\"dataframe\">\n",
       "  <thead>\n",
       "    <tr style=\"text-align: right;\">\n",
       "      <th></th>\n",
       "      <th>Codi_Districte</th>\n",
       "      <th>Nom_Districte</th>\n",
       "      <th>Q1</th>\n",
       "      <th>EDAT</th>\n",
       "      <th>P1</th>\n",
       "      <th>P1A</th>\n",
       "      <th>Q1A</th>\n",
       "      <th>P2_1</th>\n",
       "      <th>P2_2</th>\n",
       "      <th>P2_3</th>\n",
       "      <th>P2_4</th>\n",
       "    </tr>\n",
       "  </thead>\n",
       "  <tbody>\n",
       "    <tr>\n",
       "      <th>484</th>\n",
       "      <td>10</td>\n",
       "      <td>Sant Martí</td>\n",
       "      <td>1</td>\n",
       "      <td>5</td>\n",
       "      <td>1</td>\n",
       "      <td>2.0</td>\n",
       "      <td>8.0</td>\n",
       "      <td>4</td>\n",
       "      <td>1</td>\n",
       "      <td>3</td>\n",
       "      <td>1</td>\n",
       "    </tr>\n",
       "  </tbody>\n",
       "</table>\n",
       "</div>"
      ],
      "text/plain": [
       "     Codi_Districte Nom_Districte  Q1  EDAT  P1  P1A  Q1A  P2_1  P2_2  P2_3  \\\n",
       "484              10    Sant Martí   1     5   1  2.0  8.0     4     1     3   \n",
       "\n",
       "     P2_4  \n",
       "484     1  "
      ]
     },
     "execution_count": 999,
     "metadata": {},
     "output_type": "execute_result"
    }
   ],
   "source": [
    "encuesta_graph.sample()"
   ]
  },
  {
   "cell_type": "code",
   "execution_count": 1000,
   "metadata": {},
   "outputs": [],
   "source": [
    "# dictionaries with real values.\n",
    "Q1 = {1:\"home\", 2: \"dona\", 3: \"nobinari\"}\n",
    "EDAT = {1:\"16 a 24\", 2:\"25 a 34\", 3:\"35 a 44\", 4:\"45 a 54\", 5:\"55 a 64\", 6:\"65 a 64\", 7:\"75 +\"}\n",
    "P1 = {1:\"SI\", 2:\"NO\", 98:\"no ho sap\", 99:\"no contesta\"}\n",
    "P1A = {1:\"ADL/VDSL/SDSL\", 2:\"fibra optica\", 3:\"hibrid de firba i coaxial (HFC)\", 4:\"internet radio/4G\", 95:\"altres sistemes\", 98:\"no ho sap\", 99:\"no contesta\"}\n",
    "Q1A = {0:\"dolenta\", 1.0:\"dolenta\", 2.0:\"dolenta\", 3.0:\"dolenta\", 4.0:\"regular\", 5.0:\"regular\", 6.0:\"regular\", 7.0:\"molt bona\", 8.0:\"molt bona\", 9.0:\"molt bona\",10:\"molt bona\", 98:\"no ho sap\", 99:\"no contesta\"}\n",
    "P2_1 = {98: 0, 99:0}\n",
    "P2_2 = {98:0, 99:0}\n",
    "P2_3 = {98:0, 99:0}\n",
    "P2_4 = {98:0, 99:0}\n"
   ]
  },
  {
   "cell_type": "code",
   "execution_count": 1002,
   "metadata": {},
   "outputs": [],
   "source": [
    "# create new columns with replace dictionary values.\n",
    "encuesta_graph[\"sexo\"] = encuesta_graph[\"Q1\"].replace(Q1)\n",
    "encuesta_graph[\"edad\"] = encuesta_graph[\"EDAT\"].replace(EDAT)\n",
    "encuesta_graph[\"conexion a internet\"] = encuesta_graph[\"P1\"].replace(P1)\n",
    "encuesta_graph[\"tipo de conexion\"] = encuesta_graph[\"P1A\"].replace(P1A)\n",
    "encuesta_graph[\"calidad de internet\"] = encuesta_graph[\"Q1A\"].replace(Q1A)\n",
    "encuesta_graph[\"smartphone\"] = encuesta_graph[\"P2_1\"].replace(P2_1)\n",
    "encuesta_graph[\"tablet\"] = encuesta_graph[\"P2_2\"].replace(P2_2)\n",
    "encuesta_graph[\"portatil\"] = encuesta_graph[\"P2_3\"].replace(P2_3)\n",
    "encuesta_graph[\"ordenador\"] = encuesta_graph[\"P2_4\"].replace(P2_4)\n"
   ]
  },
  {
   "cell_type": "code",
   "execution_count": 1003,
   "metadata": {},
   "outputs": [],
   "source": [
    "# Filter df.\n",
    "encuesta = encuesta_graph[[\"Codi_Districte\", \"Nom_Districte\", \"sexo\", \"edad\", \"conexion a internet\", \"tipo de conexion\",\n",
    "                             \"calidad de internet\", \"smartphone\", \"tablet\", \"portatil\", \"ordenador\"]]"
   ]
  },
  {
   "cell_type": "code",
   "execution_count": 1004,
   "metadata": {},
   "outputs": [
    {
     "name": "stdout",
     "output_type": "stream",
     "text": [
      "Codi_Districte           0\n",
      "Nom_Districte            0\n",
      "sexo                     0\n",
      "edad                     0\n",
      "conexion a internet      0\n",
      "tipo de conexion       203\n",
      "calidad de internet    203\n",
      "smartphone               0\n",
      "tablet                   0\n",
      "portatil                 0\n",
      "ordenador                0\n",
      "dtype: int64\n"
     ]
    }
   ],
   "source": [
    "print(encuesta.isna().sum())"
   ]
  },
  {
   "cell_type": "code",
   "execution_count": 1005,
   "metadata": {},
   "outputs": [],
   "source": [
    "# rellenar null values\n",
    "encuesta[\"tipo de conexion\"].fillna(\"no ho sap\",inplace=True)\n",
    "encuesta[\"calidad de internet\"].fillna(\"no ho sap\", inplace=True)"
   ]
  },
  {
   "cell_type": "code",
   "execution_count": 1006,
   "metadata": {},
   "outputs": [
    {
     "name": "stdout",
     "output_type": "stream",
     "text": [
      "<class 'pandas.core.frame.DataFrame'>\n",
      "RangeIndex: 2542 entries, 0 to 2541\n",
      "Data columns (total 11 columns):\n",
      " #   Column               Non-Null Count  Dtype \n",
      "---  ------               --------------  ----- \n",
      " 0   Codi_Districte       2542 non-null   int64 \n",
      " 1   Nom_Districte        2542 non-null   object\n",
      " 2   sexo                 2542 non-null   object\n",
      " 3   edad                 2542 non-null   object\n",
      " 4   conexion a internet  2542 non-null   object\n",
      " 5   tipo de conexion     2542 non-null   object\n",
      " 6   calidad de internet  2542 non-null   object\n",
      " 7   smartphone           2542 non-null   int64 \n",
      " 8   tablet               2542 non-null   int64 \n",
      " 9   portatil             2542 non-null   int64 \n",
      " 10  ordenador            2542 non-null   int64 \n",
      "dtypes: int64(5), object(6)\n",
      "memory usage: 218.6+ KB\n"
     ]
    }
   ],
   "source": [
    "encuesta.info()"
   ]
  },
  {
   "attachments": {},
   "cell_type": "markdown",
   "metadata": {},
   "source": [
    "Graph to see the amount of people by sex that where interviewed."
   ]
  },
  {
   "cell_type": "code",
   "execution_count": 1007,
   "metadata": {},
   "outputs": [
    {
     "data": {
      "image/png": "[encoded data removed]",
      "text/plain": [
       "<Figure size 640x480 with 1 Axes>"
      ]
     },
     "metadata": {},
     "output_type": "display_data"
    }
   ],
   "source": [
    "sns.histplot(data=encuesta, x=\"sexo\");"
   ]
  },
  {
   "attachments": {},
   "cell_type": "markdown",
   "metadata": {},
   "source": [
    "Graph that shows how many people have access to internet in their home."
   ]
  },
  {
   "cell_type": "code",
   "execution_count": 146,
   "metadata": {},
   "outputs": [
    {
     "data": {
      "image/png": "[encoded data removed]",
      "text/plain": [
       "<Figure size 640x480 with 1 Axes>"
      ]
     },
     "metadata": {},
     "output_type": "display_data"
    }
   ],
   "source": [
    "sns.histplot(data=encuesta, x=\"conexion a internet\");"
   ]
  },
  {
   "attachments": {},
   "cell_type": "markdown",
   "metadata": {},
   "source": [
    "Graph of how many smartphones has each family."
   ]
  },
  {
   "cell_type": "code",
   "execution_count": 149,
   "metadata": {},
   "outputs": [
    {
     "data": {
      "image/png": "[encoded data removed]",
      "text/plain": [
       "<Figure size 640x480 with 1 Axes>"
      ]
     },
     "metadata": {},
     "output_type": "display_data"
    }
   ],
   "source": [
    "sns.histplot(data=encuesta, x=\"smartphone\");"
   ]
  },
  {
   "attachments": {},
   "cell_type": "markdown",
   "metadata": {},
   "source": [
    "How many portatila have each people in their house"
   ]
  },
  {
   "cell_type": "code",
   "execution_count": 148,
   "metadata": {},
   "outputs": [
    {
     "data": {
      "image/png": "[encoded data removed]",
      "text/plain": [
       "<Figure size 640x480 with 1 Axes>"
      ]
     },
     "metadata": {},
     "output_type": "display_data"
    }
   ],
   "source": [
    "sns.histplot(data=encuesta, x=\"portatil\");"
   ]
  },
  {
   "attachments": {},
   "cell_type": "markdown",
   "metadata": {},
   "source": [
    "The range of years of each people interviewed."
   ]
  },
  {
   "cell_type": "code",
   "execution_count": 1008,
   "metadata": {},
   "outputs": [
    {
     "data": {
      "image/png": "[encoded data removed]",
      "text/plain": [
       "<Figure size 640x480 with 1 Axes>"
      ]
     },
     "metadata": {},
     "output_type": "display_data"
    }
   ],
   "source": [
    "sns.histplot(data=encuesta, x=\"edad\");"
   ]
  },
  {
   "cell_type": "code",
   "execution_count": 1009,
   "metadata": {},
   "outputs": [
    {
     "data": {
      "text/plain": [
       "calidad de internet\n",
       "molt bona      1917\n",
       "regular         336\n",
       "no ho sap       250\n",
       "dolenta          32\n",
       "no contesta       7\n",
       "Name: count, dtype: int64"
      ]
     },
     "execution_count": 1009,
     "metadata": {},
     "output_type": "execute_result"
    }
   ],
   "source": [
    "encuesta[\"calidad de internet\"].value_counts()"
   ]
  },
  {
   "attachments": {},
   "cell_type": "markdown",
   "metadata": {},
   "source": [
    "### Centros civicos"
   ]
  },
  {
   "attachments": {},
   "cell_type": "markdown",
   "metadata": {},
   "source": [
    "This data is from Barcelona open data, where it shows the centros civicos that are in the city of Barcelona, it shows the quantity of afluence and how big each centro civico is, it also has the coordinates."
   ]
  },
  {
   "cell_type": "code",
   "execution_count": 1011,
   "metadata": {},
   "outputs": [],
   "source": [
    "civic = pd.read_csv(\"csv/2021_centres_civics_activitats_formacio.csv\")"
   ]
  },
  {
   "cell_type": "code",
   "execution_count": 1012,
   "metadata": {},
   "outputs": [
    {
     "data": {
      "text/plain": [
       "Any                   0\n",
       "Equipament            0\n",
       "Indicador             0\n",
       "Valor                 0\n",
       "Notes_Dades         153\n",
       "Notes_Equipament    147\n",
       "Codi_Districte        0\n",
       "Nom_Districte         0\n",
       "Codi_Barri            0\n",
       "Nom_Barri             0\n",
       "Titularitat           0\n",
       "TipusGeneral          0\n",
       "TipusEquipament       0\n",
       "Ambit                 0\n",
       "Latitud               0\n",
       "Longitud              0\n",
       "dtype: int64"
      ]
     },
     "execution_count": 1012,
     "metadata": {},
     "output_type": "execute_result"
    }
   ],
   "source": [
    "civic.isna().sum()"
   ]
  },
  {
   "cell_type": "code",
   "execution_count": 1013,
   "metadata": {},
   "outputs": [
    {
     "name": "stdout",
     "output_type": "stream",
     "text": [
      "<class 'pandas.core.frame.DataFrame'>\n",
      "RangeIndex: 153 entries, 0 to 152\n",
      "Data columns (total 16 columns):\n",
      " #   Column            Non-Null Count  Dtype  \n",
      "---  ------            --------------  -----  \n",
      " 0   Any               153 non-null    int64  \n",
      " 1   Equipament        153 non-null    object \n",
      " 2   Indicador         153 non-null    object \n",
      " 3   Valor             153 non-null    int64  \n",
      " 4   Notes_Dades       0 non-null      float64\n",
      " 5   Notes_Equipament  6 non-null      object \n",
      " 6   Codi_Districte    153 non-null    int64  \n",
      " 7   Nom_Districte     153 non-null    object \n",
      " 8   Codi_Barri        153 non-null    int64  \n",
      " 9   Nom_Barri         153 non-null    object \n",
      " 10  Titularitat       153 non-null    object \n",
      " 11  TipusGeneral      153 non-null    object \n",
      " 12  TipusEquipament   153 non-null    object \n",
      " 13  Ambit             153 non-null    object \n",
      " 14  Latitud           153 non-null    float64\n",
      " 15  Longitud          153 non-null    float64\n",
      "dtypes: float64(3), int64(4), object(9)\n",
      "memory usage: 19.2+ KB\n"
     ]
    }
   ],
   "source": [
    "civic.info()"
   ]
  },
  {
   "cell_type": "code",
   "execution_count": 1014,
   "metadata": {},
   "outputs": [
    {
     "data": {
      "text/plain": [
       "Ambit\n",
       "Multidisciplinaris i altres    153\n",
       "Name: count, dtype: int64"
      ]
     },
     "execution_count": 1014,
     "metadata": {},
     "output_type": "execute_result"
    }
   ],
   "source": [
    "civic.Ambit.value_counts()"
   ]
  },
  {
   "cell_type": "code",
   "execution_count": 1016,
   "metadata": {},
   "outputs": [
    {
     "data": {
      "text/html": [
       "<div>\n",
       "<style scoped>\n",
       "    .dataframe tbody tr th:only-of-type {\n",
       "        vertical-align: middle;\n",
       "    }\n",
       "\n",
       "    .dataframe tbody tr th {\n",
       "        vertical-align: top;\n",
       "    }\n",
       "\n",
       "    .dataframe thead th {\n",
       "        text-align: right;\n",
       "    }\n",
       "</style>\n",
       "<table border=\"1\" class=\"dataframe\">\n",
       "  <thead>\n",
       "    <tr style=\"text-align: right;\">\n",
       "      <th></th>\n",
       "      <th>Any</th>\n",
       "      <th>Equipament</th>\n",
       "      <th>Indicador</th>\n",
       "      <th>Valor</th>\n",
       "      <th>Notes_Dades</th>\n",
       "      <th>Notes_Equipament</th>\n",
       "      <th>Codi_Districte</th>\n",
       "      <th>Nom_Districte</th>\n",
       "      <th>Codi_Barri</th>\n",
       "      <th>Nom_Barri</th>\n",
       "      <th>Titularitat</th>\n",
       "      <th>TipusGeneral</th>\n",
       "      <th>TipusEquipament</th>\n",
       "      <th>Ambit</th>\n",
       "      <th>Latitud</th>\n",
       "      <th>Longitud</th>\n",
       "    </tr>\n",
       "  </thead>\n",
       "  <tbody>\n",
       "    <tr>\n",
       "      <th>11</th>\n",
       "      <td>2021</td>\n",
       "      <td>Centre Cívic Bon Pastor</td>\n",
       "      <td>Metres_quadrats</td>\n",
       "      <td>1370</td>\n",
       "      <td>NaN</td>\n",
       "      <td>NaN</td>\n",
       "      <td>9</td>\n",
       "      <td>Sant Andreu</td>\n",
       "      <td>59</td>\n",
       "      <td>el Bon Pastor</td>\n",
       "      <td>Municipal</td>\n",
       "      <td>Centres cívics</td>\n",
       "      <td>Centres cívics</td>\n",
       "      <td>Multidisciplinaris i altres</td>\n",
       "      <td>41.43478</td>\n",
       "      <td>2.204912</td>\n",
       "    </tr>\n",
       "  </tbody>\n",
       "</table>\n",
       "</div>"
      ],
      "text/plain": [
       "     Any               Equipament        Indicador  Valor  Notes_Dades  \\\n",
       "11  2021  Centre Cívic Bon Pastor  Metres_quadrats   1370          NaN   \n",
       "\n",
       "   Notes_Equipament  Codi_Districte Nom_Districte  Codi_Barri      Nom_Barri  \\\n",
       "11              NaN               9   Sant Andreu          59  el Bon Pastor   \n",
       "\n",
       "   Titularitat    TipusGeneral TipusEquipament                        Ambit  \\\n",
       "11   Municipal  Centres cívics  Centres cívics  Multidisciplinaris i altres   \n",
       "\n",
       "     Latitud  Longitud  \n",
       "11  41.43478  2.204912  "
      ]
     },
     "execution_count": 1016,
     "metadata": {},
     "output_type": "execute_result"
    }
   ],
   "source": [
    "civic.sample()"
   ]
  },
  {
   "cell_type": "code",
   "execution_count": 1017,
   "metadata": {},
   "outputs": [],
   "source": [
    "# filtering with wanted columns.\n",
    "civic = civic[[\"Equipament\", \"Indicador\", \"Valor\", \"Codi_Districte\", \"Nom_Districte\", \"Codi_Barri\", \"Nom_Barri\", \"Latitud\", \"Longitud\"]]"
   ]
  },
  {
   "attachments": {},
   "cell_type": "markdown",
   "metadata": {},
   "source": [
    "Se tomaran en cuenta para su valor la cantidad de actividades de formacion, las inscripciones por actividades y los metros cuadrados que tengan cada centro civico.\n"
   ]
  },
  {
   "cell_type": "code",
   "execution_count": 1019,
   "metadata": {},
   "outputs": [],
   "source": [
    "valores_civic = civic.groupby('Equipament')['Valor'].sum()"
   ]
  },
  {
   "cell_type": "code",
   "execution_count": 1020,
   "metadata": {},
   "outputs": [],
   "source": [
    "# make it df.\n",
    "valores_civic = valores_civic.to_frame()"
   ]
  },
  {
   "cell_type": "code",
   "execution_count": 1021,
   "metadata": {},
   "outputs": [],
   "source": [
    "# reset index and then merge it to the data frame.\n",
    "valores_civic.reset_index()\n",
    "x = pd.merge(civic, valores_civic, on= \"Equipament\", how=\"left\")"
   ]
  },
  {
   "cell_type": "code",
   "execution_count": 1022,
   "metadata": {},
   "outputs": [],
   "source": [
    "x.drop(columns=[\"Valor_x\", \"Indicador\"], inplace=True)"
   ]
  },
  {
   "cell_type": "code",
   "execution_count": 1023,
   "metadata": {},
   "outputs": [],
   "source": [
    "civic = x.drop_duplicates()"
   ]
  },
  {
   "cell_type": "code",
   "execution_count": 1024,
   "metadata": {},
   "outputs": [],
   "source": [
    "civic.rename(columns={\"Valor_y\":\"Valor_CentroCivic\"}, inplace=True)"
   ]
  },
  {
   "cell_type": "code",
   "execution_count": 1025,
   "metadata": {},
   "outputs": [],
   "source": [
    "civic_total = civic.copy()"
   ]
  },
  {
   "cell_type": "code",
   "execution_count": 1026,
   "metadata": {},
   "outputs": [
    {
     "data": {
      "text/html": [
       "<div>\n",
       "<style scoped>\n",
       "    .dataframe tbody tr th:only-of-type {\n",
       "        vertical-align: middle;\n",
       "    }\n",
       "\n",
       "    .dataframe tbody tr th {\n",
       "        vertical-align: top;\n",
       "    }\n",
       "\n",
       "    .dataframe thead th {\n",
       "        text-align: right;\n",
       "    }\n",
       "</style>\n",
       "<table border=\"1\" class=\"dataframe\">\n",
       "  <thead>\n",
       "    <tr style=\"text-align: right;\">\n",
       "      <th></th>\n",
       "      <th>Equipament</th>\n",
       "      <th>Codi_Districte</th>\n",
       "      <th>Nom_Districte</th>\n",
       "      <th>Codi_Barri</th>\n",
       "      <th>Nom_Barri</th>\n",
       "      <th>Latitud</th>\n",
       "      <th>Longitud</th>\n",
       "      <th>Valor_CentroCivic</th>\n",
       "    </tr>\n",
       "  </thead>\n",
       "  <tbody>\n",
       "    <tr>\n",
       "      <th>99</th>\n",
       "      <td>Centre Cívic Navas</td>\n",
       "      <td>9</td>\n",
       "      <td>Sant Andreu</td>\n",
       "      <td>63</td>\n",
       "      <td>Navas</td>\n",
       "      <td>41.416905</td>\n",
       "      <td>2.184919</td>\n",
       "      <td>3261</td>\n",
       "    </tr>\n",
       "  </tbody>\n",
       "</table>\n",
       "</div>"
      ],
      "text/plain": [
       "            Equipament  Codi_Districte Nom_Districte  Codi_Barri Nom_Barri  \\\n",
       "99  Centre Cívic Navas               9   Sant Andreu          63     Navas   \n",
       "\n",
       "      Latitud  Longitud  Valor_CentroCivic  \n",
       "99  41.416905  2.184919               3261  "
      ]
     },
     "execution_count": 1026,
     "metadata": {},
     "output_type": "execute_result"
    }
   ],
   "source": [
    "civic_total.sample()"
   ]
  },
  {
   "attachments": {},
   "cell_type": "markdown",
   "metadata": {},
   "source": [
    "#### scale the values."
   ]
  },
  {
   "attachments": {},
   "cell_type": "markdown",
   "metadata": {},
   "source": [
    "Will scale the value of the sum of each valid point and get them a 10% of the total value to get the estimated number."
   ]
  },
  {
   "cell_type": "code",
   "execution_count": 1027,
   "metadata": {},
   "outputs": [],
   "source": [
    "civic_total = civic_total.groupby(\"Codi_Barri\")[\"Valor_CentroCivic\"].sum()\n",
    "civic_total = civic_total.to_frame()\n",
    "civic_total = civic_total.reset_index()"
   ]
  },
  {
   "cell_type": "code",
   "execution_count": 1028,
   "metadata": {},
   "outputs": [],
   "source": [
    "scaler = MinMaxScaler(feature_range=(0, 1))\n",
    "civic_total[\"Valor_CentroCivic\"] = scaler.fit_transform(civic_total[\"Valor_CentroCivic\"].values.reshape(-1, 1))\n",
    "\n",
    "civic_total[\"centerScore\"] = civic_total[\"Valor_CentroCivic\"]*10\n",
    "\n",
    "civic_total.drop(columns=[\"Valor_CentroCivic\"], inplace=True)"
   ]
  },
  {
   "cell_type": "code",
   "execution_count": 1030,
   "metadata": {},
   "outputs": [
    {
     "data": {
      "text/html": [
       "<div>\n",
       "<style scoped>\n",
       "    .dataframe tbody tr th:only-of-type {\n",
       "        vertical-align: middle;\n",
       "    }\n",
       "\n",
       "    .dataframe tbody tr th {\n",
       "        vertical-align: top;\n",
       "    }\n",
       "\n",
       "    .dataframe thead th {\n",
       "        text-align: right;\n",
       "    }\n",
       "</style>\n",
       "<table border=\"1\" class=\"dataframe\">\n",
       "  <thead>\n",
       "    <tr style=\"text-align: right;\">\n",
       "      <th></th>\n",
       "      <th>Codi_Barri</th>\n",
       "      <th>centerScore</th>\n",
       "    </tr>\n",
       "  </thead>\n",
       "  <tbody>\n",
       "    <tr>\n",
       "      <th>15</th>\n",
       "      <td>22</td>\n",
       "      <td>1.691827</td>\n",
       "    </tr>\n",
       "    <tr>\n",
       "      <th>4</th>\n",
       "      <td>5</td>\n",
       "      <td>1.680115</td>\n",
       "    </tr>\n",
       "    <tr>\n",
       "      <th>24</th>\n",
       "      <td>38</td>\n",
       "      <td>0.441176</td>\n",
       "    </tr>\n",
       "  </tbody>\n",
       "</table>\n",
       "</div>"
      ],
      "text/plain": [
       "    Codi_Barri  centerScore\n",
       "15          22     1.691827\n",
       "4            5     1.680115\n",
       "24          38     0.441176"
      ]
     },
     "execution_count": 1030,
     "metadata": {},
     "output_type": "execute_result"
    }
   ],
   "source": [
    "civic_total.sample(3)"
   ]
  },
  {
   "attachments": {},
   "cell_type": "markdown",
   "metadata": {},
   "source": [
    "### Educacio no reglada."
   ]
  },
  {
   "cell_type": "code",
   "execution_count": 1031,
   "metadata": {},
   "outputs": [],
   "source": [
    "educacio = pd.read_csv(\"csv/opendatabcn_educacio_ensenyament_no-reglat.csv\", encoding='utf-16')"
   ]
  },
  {
   "cell_type": "code",
   "execution_count": 1032,
   "metadata": {},
   "outputs": [
    {
     "name": "stdout",
     "output_type": "stream",
     "text": [
      "<class 'pandas.core.frame.DataFrame'>\n",
      "RangeIndex: 237 entries, 0 to 236\n",
      "Data columns (total 36 columns):\n",
      " #   Column                         Non-Null Count  Dtype  \n",
      "---  ------                         --------------  -----  \n",
      " 0   register_id                    237 non-null    object \n",
      " 1   name                           237 non-null    object \n",
      " 2   institution_id                 15 non-null     float64\n",
      " 3   institution_name               15 non-null     object \n",
      " 4   created                        237 non-null    object \n",
      " 5   modified                       237 non-null    object \n",
      " 6   addresses_roadtype_id          0 non-null      float64\n",
      " 7   addresses_roadtype_name        0 non-null      float64\n",
      " 8   addresses_road_id              237 non-null    int64  \n",
      " 9   addresses_road_name            237 non-null    object \n",
      " 10  addresses_start_street_number  237 non-null    int64  \n",
      " 11  addresses_end_street_number    19 non-null     float64\n",
      " 12  addresses_neighborhood_id      237 non-null    int64  \n",
      " 13  addresses_neighborhood_name    237 non-null    object \n",
      " 14  addresses_district_id          237 non-null    int64  \n",
      " 15  addresses_district_name        237 non-null    object \n",
      " 16  addresses_zip_code             237 non-null    int64  \n",
      " 17  addresses_town                 237 non-null    object \n",
      " 18  addresses_main_address         237 non-null    bool   \n",
      " 19  addresses_type                 0 non-null      float64\n",
      " 20  values_id                      234 non-null    float64\n",
      " 21  values_attribute_id            234 non-null    float64\n",
      " 22  values_category                234 non-null    object \n",
      " 23  values_attribute_name          234 non-null    object \n",
      " 24  values_value                   234 non-null    object \n",
      " 25  values_outstanding             234 non-null    object \n",
      " 26  values_description             7 non-null      object \n",
      " 27  secondary_filters_id           237 non-null    int64  \n",
      " 28  secondary_filters_name         237 non-null    object \n",
      " 29  secondary_filters_fullpath     237 non-null    object \n",
      " 30  secondary_filters_tree         237 non-null    int64  \n",
      " 31  secondary_filters_asia_id      237 non-null    int64  \n",
      " 32  geo_epgs_25831_x               237 non-null    float64\n",
      " 33  geo_epgs_25831_y               237 non-null    float64\n",
      " 34  geo_epgs_4326_x                237 non-null    float64\n",
      " 35  geo_epgs_4326_y                237 non-null    float64\n",
      "dtypes: bool(1), float64(11), int64(8), object(16)\n",
      "memory usage: 65.2+ KB\n"
     ]
    }
   ],
   "source": [
    "educacio.info()"
   ]
  },
  {
   "cell_type": "code",
   "execution_count": 1033,
   "metadata": {},
   "outputs": [
    {
     "data": {
      "text/html": [
       "<div>\n",
       "<style scoped>\n",
       "    .dataframe tbody tr th:only-of-type {\n",
       "        vertical-align: middle;\n",
       "    }\n",
       "\n",
       "    .dataframe tbody tr th {\n",
       "        vertical-align: top;\n",
       "    }\n",
       "\n",
       "    .dataframe thead th {\n",
       "        text-align: right;\n",
       "    }\n",
       "</style>\n",
       "<table border=\"1\" class=\"dataframe\">\n",
       "  <thead>\n",
       "    <tr style=\"text-align: right;\">\n",
       "      <th></th>\n",
       "      <th>register_id</th>\n",
       "      <th>name</th>\n",
       "      <th>institution_id</th>\n",
       "      <th>institution_name</th>\n",
       "      <th>created</th>\n",
       "      <th>modified</th>\n",
       "      <th>addresses_roadtype_id</th>\n",
       "      <th>addresses_roadtype_name</th>\n",
       "      <th>addresses_road_id</th>\n",
       "      <th>addresses_road_name</th>\n",
       "      <th>addresses_start_street_number</th>\n",
       "      <th>addresses_end_street_number</th>\n",
       "      <th>addresses_neighborhood_id</th>\n",
       "      <th>addresses_neighborhood_name</th>\n",
       "      <th>addresses_district_id</th>\n",
       "      <th>addresses_district_name</th>\n",
       "      <th>addresses_zip_code</th>\n",
       "      <th>addresses_town</th>\n",
       "      <th>addresses_main_address</th>\n",
       "      <th>addresses_type</th>\n",
       "      <th>values_id</th>\n",
       "      <th>values_attribute_id</th>\n",
       "      <th>values_category</th>\n",
       "      <th>values_attribute_name</th>\n",
       "      <th>values_value</th>\n",
       "      <th>values_outstanding</th>\n",
       "      <th>values_description</th>\n",
       "      <th>secondary_filters_id</th>\n",
       "      <th>secondary_filters_name</th>\n",
       "      <th>secondary_filters_fullpath</th>\n",
       "      <th>secondary_filters_tree</th>\n",
       "      <th>secondary_filters_asia_id</th>\n",
       "      <th>geo_epgs_25831_x</th>\n",
       "      <th>geo_epgs_25831_y</th>\n",
       "      <th>geo_epgs_4326_x</th>\n",
       "      <th>geo_epgs_4326_y</th>\n",
       "    </tr>\n",
       "  </thead>\n",
       "  <tbody>\n",
       "    <tr>\n",
       "      <th>179</th>\n",
       "      <td>﻿75990349520</td>\n",
       "      <td>CEV, Centre de Comunicació, Imatge i So</td>\n",
       "      <td>NaN</td>\n",
       "      <td>NaN</td>\n",
       "      <td>1996-09-18T00:00:00+02:00</td>\n",
       "      <td>2023-02-28T13:30:10.076746+01:00</td>\n",
       "      <td>NaN</td>\n",
       "      <td>NaN</td>\n",
       "      <td>11506</td>\n",
       "      <td>Alpens</td>\n",
       "      <td>19</td>\n",
       "      <td>NaN</td>\n",
       "      <td>16</td>\n",
       "      <td>la Bordeta</td>\n",
       "      <td>3</td>\n",
       "      <td>Sants-Montjuïc</td>\n",
       "      <td>8014</td>\n",
       "      <td>BARCELONA</td>\n",
       "      <td>True</td>\n",
       "      <td>NaN</td>\n",
       "      <td>151801.0</td>\n",
       "      <td>20001.0</td>\n",
       "      <td>Telèfons</td>\n",
       "      <td>Tel.</td>\n",
       "      <td>931762343</td>\n",
       "      <td>True</td>\n",
       "      <td>NaN</td>\n",
       "      <td>56732073</td>\n",
       "      <td>Formació professional</td>\n",
       "      <td>Planol BCN &gt;&gt; Educació &gt;&gt; Ensenyament reglat &gt;...</td>\n",
       "      <td>651</td>\n",
       "      <td>65103003001005</td>\n",
       "      <td>428109.571095</td>\n",
       "      <td>4.580441e+06</td>\n",
       "      <td>41.372274</td>\n",
       "      <td>2.140344</td>\n",
       "    </tr>\n",
       "  </tbody>\n",
       "</table>\n",
       "</div>"
      ],
      "text/plain": [
       "      register_id                                     name  institution_id  \\\n",
       "179  ﻿75990349520  CEV, Centre de Comunicació, Imatge i So             NaN   \n",
       "\n",
       "    institution_name                    created  \\\n",
       "179              NaN  1996-09-18T00:00:00+02:00   \n",
       "\n",
       "                             modified  addresses_roadtype_id  \\\n",
       "179  2023-02-28T13:30:10.076746+01:00                    NaN   \n",
       "\n",
       "     addresses_roadtype_name  addresses_road_id addresses_road_name  \\\n",
       "179                      NaN              11506              Alpens   \n",
       "\n",
       "     addresses_start_street_number  addresses_end_street_number  \\\n",
       "179                             19                          NaN   \n",
       "\n",
       "     addresses_neighborhood_id addresses_neighborhood_name  \\\n",
       "179                         16                  la Bordeta   \n",
       "\n",
       "     addresses_district_id addresses_district_name  addresses_zip_code  \\\n",
       "179                      3          Sants-Montjuïc                8014   \n",
       "\n",
       "    addresses_town  addresses_main_address  addresses_type  values_id  \\\n",
       "179      BARCELONA                    True             NaN   151801.0   \n",
       "\n",
       "     values_attribute_id values_category values_attribute_name values_value  \\\n",
       "179              20001.0        Telèfons                  Tel.    931762343   \n",
       "\n",
       "    values_outstanding values_description  secondary_filters_id  \\\n",
       "179               True                NaN              56732073   \n",
       "\n",
       "    secondary_filters_name                         secondary_filters_fullpath  \\\n",
       "179  Formació professional  Planol BCN >> Educació >> Ensenyament reglat >...   \n",
       "\n",
       "     secondary_filters_tree  secondary_filters_asia_id  geo_epgs_25831_x  \\\n",
       "179                     651             65103003001005     428109.571095   \n",
       "\n",
       "     geo_epgs_25831_y  geo_epgs_4326_x  geo_epgs_4326_y  \n",
       "179      4.580441e+06        41.372274         2.140344  "
      ]
     },
     "execution_count": 1033,
     "metadata": {},
     "output_type": "execute_result"
    }
   ],
   "source": [
    "educacio.sample()"
   ]
  },
  {
   "cell_type": "code",
   "execution_count": 1034,
   "metadata": {},
   "outputs": [],
   "source": [
    "educacio = educacio[[\"name\", \"addresses_road_name\", \"addresses_start_street_number\", \"addresses_neighborhood_id\", \"addresses_neighborhood_name\", \"addresses_district_id\", \"addresses_district_name\",\n",
    "                     \"addresses_zip_code\", \"addresses_town\", \"secondary_filters_name\", \"values_value\", \"geo_epgs_4326_x\", \"geo_epgs_4326_y\"]]"
   ]
  },
  {
   "cell_type": "code",
   "execution_count": 1035,
   "metadata": {},
   "outputs": [
    {
     "data": {
      "text/plain": [
       "secondary_filters_name\n",
       "Idiomes                            123\n",
       "Informàtica                         47\n",
       "Adults                              43\n",
       "Formació professional               13\n",
       "Educació secundària                  7\n",
       "Ensenyament infantil (3-6 anys)      2\n",
       "Educació primària                    2\n",
       "Name: count, dtype: int64"
      ]
     },
     "execution_count": 1035,
     "metadata": {},
     "output_type": "execute_result"
    }
   ],
   "source": [
    "educacio[\"secondary_filters_name\"].value_counts()"
   ]
  },
  {
   "cell_type": "code",
   "execution_count": 1036,
   "metadata": {},
   "outputs": [],
   "source": [
    "# solo seleccionar lo necesario para este proyecto, los centros de educacion en informatica.\n",
    "educacio_informatica = educacio[educacio[\"secondary_filters_name\"]==\"Informàtica\"]"
   ]
  },
  {
   "cell_type": "code",
   "execution_count": 1037,
   "metadata": {},
   "outputs": [],
   "source": [
    "# change type of columns to str.\n",
    "educacio_informatica['addresses_start_street_number'] = educacio_informatica['addresses_start_street_number'].astype(str)\n",
    "educacio_informatica['addresses_zip_code'] = educacio_informatica['addresses_zip_code'].astype(str)"
   ]
  },
  {
   "cell_type": "code",
   "execution_count": 1038,
   "metadata": {},
   "outputs": [],
   "source": [
    "# create new column with address.\n",
    "educacio_informatica['direccion'] = educacio_informatica[['addresses_road_name', 'addresses_start_street_number', 'addresses_zip_code', 'addresses_town']].apply(lambda x: ', '.join(x[x.notnull()]), axis = 1)"
   ]
  },
  {
   "cell_type": "code",
   "execution_count": 1039,
   "metadata": {},
   "outputs": [],
   "source": [
    "educacio_informatica.drop(columns=[\"addresses_town\", \"addresses_zip_code\", \"addresses_start_street_number\", \"addresses_road_name\"], inplace=True)"
   ]
  },
  {
   "cell_type": "code",
   "execution_count": 1040,
   "metadata": {},
   "outputs": [],
   "source": [
    "# rename columns.\n",
    "educacio_informatica.rename(columns={\"name\":\"Equipament\", \"addresses_neighborhood_id\":\"Codi_Barri\", \"addresses_neighborhood_name\":\"Nom_Barri\", \"addresses_district_id\":\"Codi_Districte\",\n",
    "                                     \"addresses_district_name\":\"Nom_Districte\", \"geo_epgs_4326_x\":\"Latitud\", \"geo_epgs_4326_y\":\"Longitud\", \"values_value\":\"telephone\", \"secondary_filters_name\":\"filtro\"}, inplace=True)"
   ]
  },
  {
   "cell_type": "code",
   "execution_count": 1041,
   "metadata": {},
   "outputs": [
    {
     "data": {
      "text/html": [
       "<div>\n",
       "<style scoped>\n",
       "    .dataframe tbody tr th:only-of-type {\n",
       "        vertical-align: middle;\n",
       "    }\n",
       "\n",
       "    .dataframe tbody tr th {\n",
       "        vertical-align: top;\n",
       "    }\n",
       "\n",
       "    .dataframe thead th {\n",
       "        text-align: right;\n",
       "    }\n",
       "</style>\n",
       "<table border=\"1\" class=\"dataframe\">\n",
       "  <thead>\n",
       "    <tr style=\"text-align: right;\">\n",
       "      <th></th>\n",
       "      <th>Equipament</th>\n",
       "      <th>Codi_Barri</th>\n",
       "      <th>Nom_Barri</th>\n",
       "      <th>Codi_Districte</th>\n",
       "      <th>Nom_Districte</th>\n",
       "      <th>filtro</th>\n",
       "      <th>telephone</th>\n",
       "      <th>Latitud</th>\n",
       "      <th>Longitud</th>\n",
       "      <th>direccion</th>\n",
       "    </tr>\n",
       "  </thead>\n",
       "  <tbody>\n",
       "    <tr>\n",
       "      <th>91</th>\n",
       "      <td>Acadèmia Netmind *Bruc</td>\n",
       "      <td>7</td>\n",
       "      <td>la Dreta de l'Eixample</td>\n",
       "      <td>2</td>\n",
       "      <td>Eixample</td>\n",
       "      <td>Informàtica</td>\n",
       "      <td>933041720</td>\n",
       "      <td>41.391158</td>\n",
       "      <td>2.17359</td>\n",
       "      <td>C Bruc, 29, 8010, BARCELONA</td>\n",
       "    </tr>\n",
       "  </tbody>\n",
       "</table>\n",
       "</div>"
      ],
      "text/plain": [
       "                Equipament  Codi_Barri               Nom_Barri  \\\n",
       "91  Acadèmia Netmind *Bruc           7  la Dreta de l'Eixample   \n",
       "\n",
       "    Codi_Districte Nom_Districte       filtro  telephone    Latitud  Longitud  \\\n",
       "91               2      Eixample  Informàtica  933041720  41.391158   2.17359   \n",
       "\n",
       "                      direccion  \n",
       "91  C Bruc, 29, 8010, BARCELONA  "
      ]
     },
     "execution_count": 1041,
     "metadata": {},
     "output_type": "execute_result"
    }
   ],
   "source": [
    "educacio_informatica.sample()"
   ]
  },
  {
   "cell_type": "code",
   "execution_count": 1045,
   "metadata": {},
   "outputs": [],
   "source": [
    "educacio_informatica.rename(columns={\"Equipament\":\"Name\", \"Codi_Barri\":\"neighborhoodCode\", \"Nom_Barri\":\"neighborhoodName\", \"Codi_Districte\":\"districtId\", \"Nom_Districte\":\"districtName\", \"direccion\":\"address\"}, inplace=True)\n",
    "\t"
   ]
  },
  {
   "cell_type": "code",
   "execution_count": 1046,
   "metadata": {},
   "outputs": [],
   "source": [
    "# export to json\n",
    "educacio_informatica.to_json(r\"csv/education.json\", force_ascii=False, orient=\"records\")"
   ]
  },
  {
   "attachments": {},
   "cell_type": "markdown",
   "metadata": {},
   "source": [
    "### Mobilidad"
   ]
  },
  {
   "attachments": {},
   "cell_type": "markdown",
   "metadata": {},
   "source": [
    "#### buses"
   ]
  },
  {
   "attachments": {},
   "cell_type": "markdown",
   "metadata": {},
   "source": [
    "Data base from all the bus stations in the city of Barcelona, also what type of bus and the number route."
   ]
  },
  {
   "cell_type": "code",
   "execution_count": 1047,
   "metadata": {},
   "outputs": [],
   "source": [
    "bus = pd.read_csv(\"csv/ESTACIONS_BUS.csv\")"
   ]
  },
  {
   "cell_type": "code",
   "execution_count": 1048,
   "metadata": {},
   "outputs": [],
   "source": [
    "# Filter needed data.\n",
    "bus = bus[[\"NOM_CAPA\", \"EQUIPAMENT\", \"BARRI\", \"NOM_BARRI\"]]"
   ]
  },
  {
   "cell_type": "code",
   "execution_count": 1049,
   "metadata": {},
   "outputs": [],
   "source": [
    "# Group by neighborhood and get the sum of the amount of stations per each barrio.\n",
    "bus = bus.groupby(\"BARRI\")['BARRI'].sum()"
   ]
  },
  {
   "cell_type": "code",
   "execution_count": 1050,
   "metadata": {},
   "outputs": [],
   "source": [
    "bus = bus.to_frame()"
   ]
  },
  {
   "cell_type": "code",
   "execution_count": 1051,
   "metadata": {},
   "outputs": [],
   "source": [
    "bus.rename(columns={\"BARRI\":\"count_bus\"}, inplace=True)"
   ]
  },
  {
   "cell_type": "code",
   "execution_count": 1052,
   "metadata": {},
   "outputs": [],
   "source": [
    "bus = bus.reset_index()"
   ]
  },
  {
   "cell_type": "code",
   "execution_count": 1053,
   "metadata": {},
   "outputs": [],
   "source": [
    "bus[\"BARRI\"] = bus[\"BARRI\"].astype(int)"
   ]
  },
  {
   "cell_type": "code",
   "execution_count": 1054,
   "metadata": {},
   "outputs": [
    {
     "data": {
      "text/html": [
       "<div>\n",
       "<style scoped>\n",
       "    .dataframe tbody tr th:only-of-type {\n",
       "        vertical-align: middle;\n",
       "    }\n",
       "\n",
       "    .dataframe tbody tr th {\n",
       "        vertical-align: top;\n",
       "    }\n",
       "\n",
       "    .dataframe thead th {\n",
       "        text-align: right;\n",
       "    }\n",
       "</style>\n",
       "<table border=\"1\" class=\"dataframe\">\n",
       "  <thead>\n",
       "    <tr style=\"text-align: right;\">\n",
       "      <th></th>\n",
       "      <th>BARRI</th>\n",
       "      <th>count_bus</th>\n",
       "    </tr>\n",
       "  </thead>\n",
       "  <tbody>\n",
       "    <tr>\n",
       "      <th>67</th>\n",
       "      <td>68</td>\n",
       "      <td>4352</td>\n",
       "    </tr>\n",
       "  </tbody>\n",
       "</table>\n",
       "</div>"
      ],
      "text/plain": [
       "    BARRI  count_bus\n",
       "67     68       4352"
      ]
     },
     "execution_count": 1054,
     "metadata": {},
     "output_type": "execute_result"
    }
   ],
   "source": [
    "bus.sample()"
   ]
  },
  {
   "attachments": {},
   "cell_type": "markdown",
   "metadata": {},
   "source": [
    "#### Transportation"
   ]
  },
  {
   "attachments": {},
   "cell_type": "markdown",
   "metadata": {},
   "source": [
    "Data from all the transportation inside the city of Barcelona, it counts the metro stations, and train."
   ]
  },
  {
   "cell_type": "code",
   "execution_count": 1055,
   "metadata": {},
   "outputs": [],
   "source": [
    "trans = pd.read_csv(\"csv/TRANSPORTS.csv\")"
   ]
  },
  {
   "cell_type": "code",
   "execution_count": 1056,
   "metadata": {},
   "outputs": [],
   "source": [
    "trans = trans[[\"NOM_CAPA\", \"EQUIPAMENT\", \"BARRI\", \"NOM_BARRI\"]]"
   ]
  },
  {
   "cell_type": "code",
   "execution_count": 1057,
   "metadata": {},
   "outputs": [],
   "source": [
    "# Group by neighborhood and get the sum of the amount of stations per each barrio.\n",
    "trans = trans.groupby(\"BARRI\")['BARRI'].sum()"
   ]
  },
  {
   "cell_type": "code",
   "execution_count": 1058,
   "metadata": {},
   "outputs": [],
   "source": [
    "trans = trans.to_frame()"
   ]
  },
  {
   "cell_type": "code",
   "execution_count": 1059,
   "metadata": {},
   "outputs": [],
   "source": [
    "trans.rename(columns={\"BARRI\":\"count_transport\"}, inplace=True)"
   ]
  },
  {
   "cell_type": "code",
   "execution_count": 1060,
   "metadata": {},
   "outputs": [],
   "source": [
    "trans = trans.reset_index()"
   ]
  },
  {
   "cell_type": "code",
   "execution_count": 1061,
   "metadata": {},
   "outputs": [
    {
     "name": "stdout",
     "output_type": "stream",
     "text": [
      "<class 'pandas.core.frame.DataFrame'>\n",
      "RangeIndex: 65 entries, 0 to 64\n",
      "Data columns (total 2 columns):\n",
      " #   Column           Non-Null Count  Dtype  \n",
      "---  ------           --------------  -----  \n",
      " 0   BARRI            65 non-null     float64\n",
      " 1   count_transport  65 non-null     float64\n",
      "dtypes: float64(2)\n",
      "memory usage: 1.1 KB\n"
     ]
    }
   ],
   "source": [
    "trans.info()"
   ]
  },
  {
   "cell_type": "code",
   "execution_count": 1062,
   "metadata": {},
   "outputs": [],
   "source": [
    "trans[\"BARRI\"] = trans[\"BARRI\"].astype(int)\n",
    "trans[\"count_transport\"] = trans[\"count_transport\"].astype(int)\n"
   ]
  },
  {
   "cell_type": "code",
   "execution_count": 1064,
   "metadata": {},
   "outputs": [
    {
     "name": "stdout",
     "output_type": "stream",
     "text": [
      "<class 'pandas.core.frame.DataFrame'>\n",
      "RangeIndex: 73 entries, 0 to 72\n",
      "Data columns (total 2 columns):\n",
      " #   Column     Non-Null Count  Dtype\n",
      "---  ------     --------------  -----\n",
      " 0   BARRI      73 non-null     int32\n",
      " 1   count_bus  73 non-null     int64\n",
      "dtypes: int32(1), int64(1)\n",
      "memory usage: 1004.0 bytes\n"
     ]
    }
   ],
   "source": [
    "bus.info()"
   ]
  },
  {
   "cell_type": "code",
   "execution_count": 1065,
   "metadata": {},
   "outputs": [
    {
     "name": "stdout",
     "output_type": "stream",
     "text": [
      "<class 'pandas.core.frame.DataFrame'>\n",
      "RangeIndex: 65 entries, 0 to 64\n",
      "Data columns (total 2 columns):\n",
      " #   Column           Non-Null Count  Dtype\n",
      "---  ------           --------------  -----\n",
      " 0   BARRI            65 non-null     int32\n",
      " 1   count_transport  65 non-null     int32\n",
      "dtypes: int32(2)\n",
      "memory usage: 648.0 bytes\n"
     ]
    }
   ],
   "source": [
    "trans.info()"
   ]
  },
  {
   "cell_type": "code",
   "execution_count": 1069,
   "metadata": {},
   "outputs": [],
   "source": [
    "#Mege the 2 df of mobility.\n",
    "mobility = pd.merge(trans, bus, on='BARRI', how='left') "
   ]
  },
  {
   "cell_type": "code",
   "execution_count": 1070,
   "metadata": {},
   "outputs": [],
   "source": [
    "# sum the values of the amount of stations in each barrio.\n",
    "mobility[\"mobilityScore\"] = mobility[\"count_bus\"] + mobility[\"count_transport\"]"
   ]
  },
  {
   "cell_type": "code",
   "execution_count": 1068,
   "metadata": {},
   "outputs": [
    {
     "data": {
      "text/html": [
       "<div>\n",
       "<style scoped>\n",
       "    .dataframe tbody tr th:only-of-type {\n",
       "        vertical-align: middle;\n",
       "    }\n",
       "\n",
       "    .dataframe tbody tr th {\n",
       "        vertical-align: top;\n",
       "    }\n",
       "\n",
       "    .dataframe thead th {\n",
       "        text-align: right;\n",
       "    }\n",
       "</style>\n",
       "<table border=\"1\" class=\"dataframe\">\n",
       "  <thead>\n",
       "    <tr style=\"text-align: right;\">\n",
       "      <th></th>\n",
       "      <th>BARRI</th>\n",
       "      <th>count_transport</th>\n",
       "      <th>count_bus</th>\n",
       "      <th>mobilityScore</th>\n",
       "    </tr>\n",
       "  </thead>\n",
       "  <tbody>\n",
       "    <tr>\n",
       "      <th>0</th>\n",
       "      <td>1</td>\n",
       "      <td>15</td>\n",
       "      <td>43</td>\n",
       "      <td>58</td>\n",
       "    </tr>\n",
       "    <tr>\n",
       "      <th>1</th>\n",
       "      <td>2</td>\n",
       "      <td>10</td>\n",
       "      <td>76</td>\n",
       "      <td>86</td>\n",
       "    </tr>\n",
       "    <tr>\n",
       "      <th>2</th>\n",
       "      <td>3</td>\n",
       "      <td>6</td>\n",
       "      <td>135</td>\n",
       "      <td>141</td>\n",
       "    </tr>\n",
       "    <tr>\n",
       "      <th>3</th>\n",
       "      <td>4</td>\n",
       "      <td>24</td>\n",
       "      <td>152</td>\n",
       "      <td>176</td>\n",
       "    </tr>\n",
       "    <tr>\n",
       "      <th>4</th>\n",
       "      <td>5</td>\n",
       "      <td>65</td>\n",
       "      <td>200</td>\n",
       "      <td>265</td>\n",
       "    </tr>\n",
       "    <tr>\n",
       "      <th>...</th>\n",
       "      <td>...</td>\n",
       "      <td>...</td>\n",
       "      <td>...</td>\n",
       "      <td>...</td>\n",
       "    </tr>\n",
       "    <tr>\n",
       "      <th>60</th>\n",
       "      <td>69</td>\n",
       "      <td>345</td>\n",
       "      <td>3174</td>\n",
       "      <td>3519</td>\n",
       "    </tr>\n",
       "    <tr>\n",
       "      <th>61</th>\n",
       "      <td>70</td>\n",
       "      <td>840</td>\n",
       "      <td>3010</td>\n",
       "      <td>3850</td>\n",
       "    </tr>\n",
       "    <tr>\n",
       "      <th>62</th>\n",
       "      <td>71</td>\n",
       "      <td>355</td>\n",
       "      <td>3053</td>\n",
       "      <td>3408</td>\n",
       "    </tr>\n",
       "    <tr>\n",
       "      <th>63</th>\n",
       "      <td>72</td>\n",
       "      <td>432</td>\n",
       "      <td>1656</td>\n",
       "      <td>2088</td>\n",
       "    </tr>\n",
       "    <tr>\n",
       "      <th>64</th>\n",
       "      <td>73</td>\n",
       "      <td>219</td>\n",
       "      <td>2920</td>\n",
       "      <td>3139</td>\n",
       "    </tr>\n",
       "  </tbody>\n",
       "</table>\n",
       "<p>65 rows × 4 columns</p>\n",
       "</div>"
      ],
      "text/plain": [
       "    BARRI  count_transport  count_bus  mobilityScore\n",
       "0       1               15         43             58\n",
       "1       2               10         76             86\n",
       "2       3                6        135            141\n",
       "3       4               24        152            176\n",
       "4       5               65        200            265\n",
       "..    ...              ...        ...            ...\n",
       "60     69              345       3174           3519\n",
       "61     70              840       3010           3850\n",
       "62     71              355       3053           3408\n",
       "63     72              432       1656           2088\n",
       "64     73              219       2920           3139\n",
       "\n",
       "[65 rows x 4 columns]"
      ]
     },
     "execution_count": 1068,
     "metadata": {},
     "output_type": "execute_result"
    }
   ],
   "source": [
    "mobility"
   ]
  },
  {
   "attachments": {},
   "cell_type": "markdown",
   "metadata": {},
   "source": [
    "#### Scale the values"
   ]
  },
  {
   "attachments": {},
   "cell_type": "markdown",
   "metadata": {},
   "source": [
    "Scale the values of the sum, the total of stations per barrio, with a value of 30% of importance."
   ]
  },
  {
   "cell_type": "code",
   "execution_count": 1071,
   "metadata": {},
   "outputs": [],
   "source": [
    "scaler = MinMaxScaler(feature_range=(0, 1))\n",
    "mobility[\"mobilityScore\"] = scaler.fit_transform(mobility[\"mobilityScore\"].values.reshape(-1, 1))\n",
    "\n",
    "mobility[\"mobilityScore\"] = mobility[\"mobilityScore\"]*30\n",
    "\n",
    "mobility.drop(columns=[\"count_transport\", \"count_bus\"], inplace=True)"
   ]
  },
  {
   "cell_type": "code",
   "execution_count": 1072,
   "metadata": {},
   "outputs": [],
   "source": [
    "mobility.rename(columns={\"BARRI\":\"Codi_Barri\"}, inplace=True)"
   ]
  },
  {
   "cell_type": "code",
   "execution_count": 1073,
   "metadata": {},
   "outputs": [
    {
     "data": {
      "text/html": [
       "<div>\n",
       "<style scoped>\n",
       "    .dataframe tbody tr th:only-of-type {\n",
       "        vertical-align: middle;\n",
       "    }\n",
       "\n",
       "    .dataframe tbody tr th {\n",
       "        vertical-align: top;\n",
       "    }\n",
       "\n",
       "    .dataframe thead th {\n",
       "        text-align: right;\n",
       "    }\n",
       "</style>\n",
       "<table border=\"1\" class=\"dataframe\">\n",
       "  <thead>\n",
       "    <tr style=\"text-align: right;\">\n",
       "      <th></th>\n",
       "      <th>Codi_Barri</th>\n",
       "      <th>mobilityScore</th>\n",
       "    </tr>\n",
       "  </thead>\n",
       "  <tbody>\n",
       "    <tr>\n",
       "      <th>0</th>\n",
       "      <td>1</td>\n",
       "      <td>0.000000</td>\n",
       "    </tr>\n",
       "    <tr>\n",
       "      <th>1</th>\n",
       "      <td>2</td>\n",
       "      <td>0.155498</td>\n",
       "    </tr>\n",
       "    <tr>\n",
       "      <th>2</th>\n",
       "      <td>3</td>\n",
       "      <td>0.460940</td>\n",
       "    </tr>\n",
       "    <tr>\n",
       "      <th>3</th>\n",
       "      <td>4</td>\n",
       "      <td>0.655313</td>\n",
       "    </tr>\n",
       "    <tr>\n",
       "      <th>4</th>\n",
       "      <td>5</td>\n",
       "      <td>1.149574</td>\n",
       "    </tr>\n",
       "    <tr>\n",
       "      <th>...</th>\n",
       "      <td>...</td>\n",
       "      <td>...</td>\n",
       "    </tr>\n",
       "    <tr>\n",
       "      <th>60</th>\n",
       "      <td>69</td>\n",
       "      <td>19.220659</td>\n",
       "    </tr>\n",
       "    <tr>\n",
       "      <th>61</th>\n",
       "      <td>70</td>\n",
       "      <td>21.058867</td>\n",
       "    </tr>\n",
       "    <tr>\n",
       "      <th>62</th>\n",
       "      <td>71</td>\n",
       "      <td>18.604221</td>\n",
       "    </tr>\n",
       "    <tr>\n",
       "      <th>63</th>\n",
       "      <td>72</td>\n",
       "      <td>11.273602</td>\n",
       "    </tr>\n",
       "    <tr>\n",
       "      <th>64</th>\n",
       "      <td>73</td>\n",
       "      <td>17.110330</td>\n",
       "    </tr>\n",
       "  </tbody>\n",
       "</table>\n",
       "<p>65 rows × 2 columns</p>\n",
       "</div>"
      ],
      "text/plain": [
       "    Codi_Barri  mobilityScore\n",
       "0            1       0.000000\n",
       "1            2       0.155498\n",
       "2            3       0.460940\n",
       "3            4       0.655313\n",
       "4            5       1.149574\n",
       "..         ...            ...\n",
       "60          69      19.220659\n",
       "61          70      21.058867\n",
       "62          71      18.604221\n",
       "63          72      11.273602\n",
       "64          73      17.110330\n",
       "\n",
       "[65 rows x 2 columns]"
      ]
     },
     "execution_count": 1073,
     "metadata": {},
     "output_type": "execute_result"
    }
   ],
   "source": [
    "mobility"
   ]
  },
  {
   "attachments": {},
   "cell_type": "markdown",
   "metadata": {},
   "source": [
    "### Complete scores df."
   ]
  },
  {
   "attachments": {},
   "cell_type": "markdown",
   "metadata": {},
   "source": [
    "Get the complete data frame with all the scores of each point. to get the final score of best ranked neighborhood."
   ]
  },
  {
   "cell_type": "code",
   "execution_count": 942,
   "metadata": {},
   "outputs": [],
   "source": [
    "# start merging all the df into one.\n",
    "x = pd.merge(renda_scaler, civic_total, on='Codi_Barri', how='left') "
   ]
  },
  {
   "cell_type": "code",
   "execution_count": 943,
   "metadata": {},
   "outputs": [],
   "source": [
    "y = pd.merge(x, mobility, on=\"Codi_Barri\", how=\"left\")"
   ]
  },
  {
   "cell_type": "code",
   "execution_count": 944,
   "metadata": {},
   "outputs": [],
   "source": [
    "total = pd.merge(y, renda_scaler, on= \"Codi_Districte\", how=\"left\")"
   ]
  },
  {
   "cell_type": "code",
   "execution_count": 945,
   "metadata": {},
   "outputs": [
    {
     "data": {
      "text/html": [
       "<div>\n",
       "<style scoped>\n",
       "    .dataframe tbody tr th:only-of-type {\n",
       "        vertical-align: middle;\n",
       "    }\n",
       "\n",
       "    .dataframe tbody tr th {\n",
       "        vertical-align: top;\n",
       "    }\n",
       "\n",
       "    .dataframe thead th {\n",
       "        text-align: right;\n",
       "    }\n",
       "</style>\n",
       "<table border=\"1\" class=\"dataframe\">\n",
       "  <thead>\n",
       "    <tr style=\"text-align: right;\">\n",
       "      <th></th>\n",
       "      <th>Codi_Districte</th>\n",
       "      <th>Nom_Districte_x</th>\n",
       "      <th>Codi_Barri_x</th>\n",
       "      <th>Nom_Barri_x</th>\n",
       "      <th>incomeAvg_x</th>\n",
       "      <th>incomeScore_x</th>\n",
       "      <th>centerScore</th>\n",
       "      <th>mobilityScore</th>\n",
       "      <th>Nom_Districte_y</th>\n",
       "      <th>Codi_Barri_y</th>\n",
       "      <th>Nom_Barri_y</th>\n",
       "      <th>incomeAvg_y</th>\n",
       "      <th>incomeScore_y</th>\n",
       "    </tr>\n",
       "  </thead>\n",
       "  <tbody>\n",
       "    <tr>\n",
       "      <th>375</th>\n",
       "      <td>8</td>\n",
       "      <td>Nou Barris</td>\n",
       "      <td>49</td>\n",
       "      <td>Canyelles</td>\n",
       "      <td>40956.8</td>\n",
       "      <td>6.1995</td>\n",
       "      <td>NaN</td>\n",
       "      <td>6.753054</td>\n",
       "      <td>Nou Barris</td>\n",
       "      <td>47</td>\n",
       "      <td>Can Peguera</td>\n",
       "      <td>26605.0</td>\n",
       "      <td>0.0</td>\n",
       "    </tr>\n",
       "  </tbody>\n",
       "</table>\n",
       "</div>"
      ],
      "text/plain": [
       "     Codi_Districte Nom_Districte_x  Codi_Barri_x Nom_Barri_x  incomeAvg_x  \\\n",
       "375               8      Nou Barris            49   Canyelles      40956.8   \n",
       "\n",
       "     incomeScore_x  centerScore  mobilityScore Nom_Districte_y  Codi_Barri_y  \\\n",
       "375         6.1995          NaN       6.753054      Nou Barris            47   \n",
       "\n",
       "     Nom_Barri_y  incomeAvg_y  incomeScore_y  \n",
       "375  Can Peguera      26605.0            0.0  "
      ]
     },
     "execution_count": 945,
     "metadata": {},
     "output_type": "execute_result"
    }
   ],
   "source": [
    "total.sample()"
   ]
  },
  {
   "cell_type": "code",
   "execution_count": 946,
   "metadata": {},
   "outputs": [],
   "source": [
    "# filter the df with needed values.\n",
    "total = total[[\"Codi_Districte\", \"Nom_Districte_x\", \"Codi_Barri_x\", \"Nom_Barri_x\", \"incomeAvg_x\", \"incomeScore_x\", \"centerScore\", \"mobilityScore\"]]"
   ]
  },
  {
   "cell_type": "code",
   "execution_count": 947,
   "metadata": {},
   "outputs": [],
   "source": [
    "total = total.drop_duplicates()"
   ]
  },
  {
   "cell_type": "code",
   "execution_count": 948,
   "metadata": {},
   "outputs": [
    {
     "data": {
      "text/plain": [
       "Codi_Barri_x\n",
       "1     1\n",
       "38    1\n",
       "54    1\n",
       "53    1\n",
       "52    1\n",
       "     ..\n",
       "25    1\n",
       "24    1\n",
       "23    1\n",
       "22    1\n",
       "73    1\n",
       "Name: count, Length: 73, dtype: int64"
      ]
     },
     "execution_count": 948,
     "metadata": {},
     "output_type": "execute_result"
    }
   ],
   "source": [
    "total[\"Codi_Barri_x\"].value_counts()"
   ]
  },
  {
   "cell_type": "code",
   "execution_count": 957,
   "metadata": {},
   "outputs": [],
   "source": [
    "# rename column names.\n",
    "total.rename(columns={\"Codi_Districte\": \"districtId\", \"Nom_Barri_x\":\"Nom_Barri\", \"Nom_Districte_x\":\"districtName\", \"Codi_Barri_x\":\"neighborhoodCode\", \"Nom_Barri\":\"neighborhoodName\", \"incomeAvg_x\":\"incomeAvg\", \"incomeScore_x\":\"incomeScore\"}, inplace=True)"
   ]
  },
  {
   "cell_type": "code",
   "execution_count": 958,
   "metadata": {},
   "outputs": [],
   "source": [
    "total.centerScore.fillna(0,inplace=True)"
   ]
  },
  {
   "cell_type": "code",
   "execution_count": 1074,
   "metadata": {},
   "outputs": [],
   "source": [
    "# sum the total of the scores to get the main score that will evaluate the neighbothood.\n",
    "total[\"totalScore\"] = total[\"incomeScore\"] + total[\"centerScore\"] + total[\"mobilityScore\"] "
   ]
  },
  {
   "cell_type": "code",
   "execution_count": 1075,
   "metadata": {},
   "outputs": [
    {
     "data": {
      "text/html": [
       "<div>\n",
       "<style scoped>\n",
       "    .dataframe tbody tr th:only-of-type {\n",
       "        vertical-align: middle;\n",
       "    }\n",
       "\n",
       "    .dataframe tbody tr th {\n",
       "        vertical-align: top;\n",
       "    }\n",
       "\n",
       "    .dataframe thead th {\n",
       "        text-align: right;\n",
       "    }\n",
       "</style>\n",
       "<table border=\"1\" class=\"dataframe\">\n",
       "  <thead>\n",
       "    <tr style=\"text-align: right;\">\n",
       "      <th></th>\n",
       "      <th>districtId</th>\n",
       "      <th>districtName</th>\n",
       "      <th>neighborhoodCode</th>\n",
       "      <th>neighborhoodName</th>\n",
       "      <th>incomeAvg</th>\n",
       "      <th>incomeScore</th>\n",
       "      <th>centerScore</th>\n",
       "      <th>mobilityScore</th>\n",
       "      <th>totalScore</th>\n",
       "    </tr>\n",
       "  </thead>\n",
       "  <tbody>\n",
       "    <tr>\n",
       "      <th>0</th>\n",
       "      <td>1</td>\n",
       "      <td>Ciutat Vella</td>\n",
       "      <td>1</td>\n",
       "      <td>el Raval</td>\n",
       "      <td>30034.809524</td>\n",
       "      <td>1.481564</td>\n",
       "      <td>1.019001</td>\n",
       "      <td>0.000000</td>\n",
       "      <td>2.500564</td>\n",
       "    </tr>\n",
       "    <tr>\n",
       "      <th>4</th>\n",
       "      <td>1</td>\n",
       "      <td>Ciutat Vella</td>\n",
       "      <td>2</td>\n",
       "      <td>el Barri Gòtic</td>\n",
       "      <td>36756.333333</td>\n",
       "      <td>4.385038</td>\n",
       "      <td>2.127798</td>\n",
       "      <td>0.155498</td>\n",
       "      <td>6.668334</td>\n",
       "    </tr>\n",
       "    <tr>\n",
       "      <th>8</th>\n",
       "      <td>1</td>\n",
       "      <td>Ciutat Vella</td>\n",
       "      <td>3</td>\n",
       "      <td>la Barceloneta</td>\n",
       "      <td>31853.000000</td>\n",
       "      <td>2.266961</td>\n",
       "      <td>2.870901</td>\n",
       "      <td>0.460940</td>\n",
       "      <td>5.598802</td>\n",
       "    </tr>\n",
       "    <tr>\n",
       "      <th>12</th>\n",
       "      <td>1</td>\n",
       "      <td>Ciutat Vella</td>\n",
       "      <td>4</td>\n",
       "      <td>Sant Pere, Santa Caterina i la Ribera</td>\n",
       "      <td>37578.846154</td>\n",
       "      <td>4.740336</td>\n",
       "      <td>1.793337</td>\n",
       "      <td>0.655313</td>\n",
       "      <td>7.188986</td>\n",
       "    </tr>\n",
       "    <tr>\n",
       "      <th>16</th>\n",
       "      <td>2</td>\n",
       "      <td>L'Eixample</td>\n",
       "      <td>5</td>\n",
       "      <td>el Fort Pienc</td>\n",
       "      <td>52484.950000</td>\n",
       "      <td>11.179277</td>\n",
       "      <td>1.680115</td>\n",
       "      <td>1.149574</td>\n",
       "      <td>14.008966</td>\n",
       "    </tr>\n",
       "    <tr>\n",
       "      <th>...</th>\n",
       "      <td>...</td>\n",
       "      <td>...</td>\n",
       "      <td>...</td>\n",
       "      <td>...</td>\n",
       "      <td>...</td>\n",
       "      <td>...</td>\n",
       "      <td>...</td>\n",
       "      <td>...</td>\n",
       "      <td>...</td>\n",
       "    </tr>\n",
       "    <tr>\n",
       "      <th>575</th>\n",
       "      <td>10</td>\n",
       "      <td>Sant Martí</td>\n",
       "      <td>69</td>\n",
       "      <td>Diagonal Mar i el Front Marítim del Poblenou</td>\n",
       "      <td>61567.714286</td>\n",
       "      <td>15.102729</td>\n",
       "      <td>0.000000</td>\n",
       "      <td>19.220659</td>\n",
       "      <td>34.323388</td>\n",
       "    </tr>\n",
       "    <tr>\n",
       "      <th>585</th>\n",
       "      <td>10</td>\n",
       "      <td>Sant Martí</td>\n",
       "      <td>70</td>\n",
       "      <td>el Besòs i el Maresme</td>\n",
       "      <td>33424.923077</td>\n",
       "      <td>2.945980</td>\n",
       "      <td>5.320146</td>\n",
       "      <td>21.058867</td>\n",
       "      <td>29.324993</td>\n",
       "    </tr>\n",
       "    <tr>\n",
       "      <th>595</th>\n",
       "      <td>10</td>\n",
       "      <td>Sant Martí</td>\n",
       "      <td>71</td>\n",
       "      <td>Provençals del Poblenou</td>\n",
       "      <td>46102.750000</td>\n",
       "      <td>8.422379</td>\n",
       "      <td>0.000000</td>\n",
       "      <td>18.604221</td>\n",
       "      <td>27.026600</td>\n",
       "    </tr>\n",
       "    <tr>\n",
       "      <th>605</th>\n",
       "      <td>10</td>\n",
       "      <td>Sant Martí</td>\n",
       "      <td>72</td>\n",
       "      <td>Sant Martí de Provençals</td>\n",
       "      <td>42089.166667</td>\n",
       "      <td>6.688645</td>\n",
       "      <td>7.229308</td>\n",
       "      <td>11.273602</td>\n",
       "      <td>25.191555</td>\n",
       "    </tr>\n",
       "    <tr>\n",
       "      <th>615</th>\n",
       "      <td>10</td>\n",
       "      <td>Sant Martí</td>\n",
       "      <td>73</td>\n",
       "      <td>la Verneda i la Pau</td>\n",
       "      <td>39292.095238</td>\n",
       "      <td>5.480403</td>\n",
       "      <td>0.000000</td>\n",
       "      <td>17.110330</td>\n",
       "      <td>22.590732</td>\n",
       "    </tr>\n",
       "  </tbody>\n",
       "</table>\n",
       "<p>73 rows × 9 columns</p>\n",
       "</div>"
      ],
      "text/plain": [
       "     districtId  districtName  neighborhoodCode  \\\n",
       "0             1  Ciutat Vella                 1   \n",
       "4             1  Ciutat Vella                 2   \n",
       "8             1  Ciutat Vella                 3   \n",
       "12            1  Ciutat Vella                 4   \n",
       "16            2    L'Eixample                 5   \n",
       "..          ...           ...               ...   \n",
       "575          10    Sant Martí                69   \n",
       "585          10    Sant Martí                70   \n",
       "595          10    Sant Martí                71   \n",
       "605          10    Sant Martí                72   \n",
       "615          10    Sant Martí                73   \n",
       "\n",
       "                                 neighborhoodName     incomeAvg  incomeScore  \\\n",
       "0                                        el Raval  30034.809524     1.481564   \n",
       "4                                  el Barri Gòtic  36756.333333     4.385038   \n",
       "8                                  la Barceloneta  31853.000000     2.266961   \n",
       "12          Sant Pere, Santa Caterina i la Ribera  37578.846154     4.740336   \n",
       "16                                  el Fort Pienc  52484.950000    11.179277   \n",
       "..                                            ...           ...          ...   \n",
       "575  Diagonal Mar i el Front Marítim del Poblenou  61567.714286    15.102729   \n",
       "585                         el Besòs i el Maresme  33424.923077     2.945980   \n",
       "595                       Provençals del Poblenou  46102.750000     8.422379   \n",
       "605                      Sant Martí de Provençals  42089.166667     6.688645   \n",
       "615                           la Verneda i la Pau  39292.095238     5.480403   \n",
       "\n",
       "     centerScore  mobilityScore  totalScore  \n",
       "0       1.019001       0.000000    2.500564  \n",
       "4       2.127798       0.155498    6.668334  \n",
       "8       2.870901       0.460940    5.598802  \n",
       "12      1.793337       0.655313    7.188986  \n",
       "16      1.680115       1.149574   14.008966  \n",
       "..           ...            ...         ...  \n",
       "575     0.000000      19.220659   34.323388  \n",
       "585     5.320146      21.058867   29.324993  \n",
       "595     0.000000      18.604221   27.026600  \n",
       "605     7.229308      11.273602   25.191555  \n",
       "615     0.000000      17.110330   22.590732  \n",
       "\n",
       "[73 rows x 9 columns]"
      ]
     },
     "execution_count": 1075,
     "metadata": {},
     "output_type": "execute_result"
    }
   ],
   "source": [
    "total"
   ]
  },
  {
   "cell_type": "code",
   "execution_count": 1076,
   "metadata": {},
   "outputs": [],
   "source": [
    "# export to json\n",
    "total.to_json(r\"csv/score.json\", force_ascii=False, orient=\"records\")"
   ]
  }
 ],
 "metadata": {
  "kernelspec": {
   "display_name": "portafolio3.9",
   "language": "python",
   "name": "python3"
  },
  "language_info": {
   "codemirror_mode": {
    "name": "ipython",
    "version": 3
   },
   "file_extension": ".py",
   "mimetype": "text/x-python",
   "name": "python",
   "nbconvert_exporter": "python",
   "pygments_lexer": "ipython3",
   "version": "3.9.16"
  },
  "orig_nbformat": 4
 },
 "nbformat": 4,
 "nbformat_minor": 2
}
